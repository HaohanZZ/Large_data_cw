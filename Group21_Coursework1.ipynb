{
 "cells": [
  {
   "cell_type": "markdown",
   "metadata": {},
   "source": [
    "# Coursework 1: $\\ell_0$-Methods for Sparse Recovery"
   ]
  },
  {
   "cell_type": "markdown",
   "metadata": {},
   "source": [
    "[x] By tick the checkbox, we hereby declare that this coursework report is our own and autonomous work. We have acknowledged all material and sources used in its preparation, including books, articles, reports, lecture notes, internet software packages, and any other kind of document, electronic or personal communication. This work has not been submitted for any other assessment."
   ]
  },
  {
   "cell_type": "markdown",
   "metadata": {},
   "source": [
    "## 1.1 Least Squares: Solution Stability (30%)"
   ]
  },
  {
   "cell_type": "markdown",
   "metadata": {},
   "source": [
    "### 1.1.1 SVD\n",
    "\n",
    "Find both compact and full SVD for the following matrices\n",
    "$$\n",
    "    \\begin{aligned}\n",
    "        \\bm{A} \n",
    "        & = \\frac{1}{2} \\begin{bmatrix}\n",
    "            1 & 1 & -2 \\\\\n",
    "            1 & 1 & 2  \\\\\n",
    "            1 & -1 & 2  \\\\\n",
    "            1 & -1 & -2 \n",
    "        \\end{bmatrix}, \\\\\n",
    "        \\bm{B} \n",
    "        & = \\frac{1}{2} \\begin{bmatrix}\n",
    "            1 & 1 & 1 & 1\\\\\n",
    "            -1 & 1 & 1 & -1 \\\\\n",
    "            2 & -2 & -2 & 2\n",
    "        \\end{bmatrix}.\n",
    "    \\end{aligned}\n",
    "$$"
   ]
  },
  {
   "cell_type": "code",
   "execution_count": 1,
   "metadata": {},
   "outputs": [
    {
     "data": {
      "text/plain": [
       "\"U matrix\""
      ]
     },
     "metadata": {},
     "output_type": "display_data"
    },
    {
     "data": {
      "text/plain": [
       "4×4 Matrix{Float64}:\n",
       " -0.5  -0.5  -0.5  -0.5\n",
       "  0.5  -0.5  -0.5   0.5\n",
       "  0.5  -0.5   0.5  -0.5\n",
       " -0.5  -0.5   0.5   0.5"
      ]
     },
     "metadata": {},
     "output_type": "display_data"
    },
    {
     "data": {
      "text/plain": [
       "\"Singular values\""
      ]
     },
     "metadata": {},
     "output_type": "display_data"
    },
    {
     "data": {
      "text/plain": [
       "3-element Vector{Float64}:\n",
       " 2.0\n",
       " 1.0\n",
       " 1.0"
      ]
     },
     "metadata": {},
     "output_type": "display_data"
    },
    {
     "data": {
      "text/plain": [
       "\"V matrix\""
      ]
     },
     "metadata": {},
     "output_type": "display_data"
    },
    {
     "data": {
      "text/plain": [
       "3×3 adjoint(::Matrix{Float64}) with eltype Float64:\n",
       " 0.0  -1.0  -0.0\n",
       " 0.0  -0.0  -1.0\n",
       " 1.0  -0.0  -0.0"
      ]
     },
     "metadata": {},
     "output_type": "display_data"
    }
   ],
   "source": [
    "using LinearAlgebra\n",
    "A = 0.5*[1 1 -2;1 1 2; 1 -1 2; 1 -1 -2]\n",
    "U_f, S_f, Vt_f = svd(A;full = true)\n",
    "for i in 1:length(S_f)\n",
    "    S_f[i] = round(S_f[i], digits = 10)\n",
    "end\n",
    "display(\"U matrix\")\n",
    "display(U_f)\n",
    "\n",
    "display(\"Singular values\")\n",
    "display(S_f)\n",
    "\n",
    "display(\"V matrix\")\n",
    "display(Vt_f)\n",
    "# The following matrix is the full matrix of A"
   ]
  },
  {
   "cell_type": "code",
   "execution_count": 2,
   "metadata": {},
   "outputs": [
    {
     "data": {
      "text/plain": [
       "\"U matrix\""
      ]
     },
     "metadata": {},
     "output_type": "display_data"
    },
    {
     "data": {
      "text/plain": [
       "4×3 Matrix{Float64}:\n",
       " -0.5  -0.5  -0.5\n",
       "  0.5  -0.5  -0.5\n",
       "  0.5  -0.5   0.5\n",
       " -0.5  -0.5   0.5"
      ]
     },
     "metadata": {},
     "output_type": "display_data"
    },
    {
     "data": {
      "text/plain": [
       "\"Singular values\""
      ]
     },
     "metadata": {},
     "output_type": "display_data"
    },
    {
     "data": {
      "text/plain": [
       "3-element Vector{Float64}:\n",
       " 2.0\n",
       " 1.0\n",
       " 1.0"
      ]
     },
     "metadata": {},
     "output_type": "display_data"
    },
    {
     "data": {
      "text/plain": [
       "\"V matrix\""
      ]
     },
     "metadata": {},
     "output_type": "display_data"
    },
    {
     "data": {
      "text/plain": [
       "3×3 adjoint(::Matrix{Float64}) with eltype Float64:\n",
       " 0.0  -1.0  -0.0\n",
       " 0.0  -0.0  -1.0\n",
       " 1.0  -0.0  -0.0"
      ]
     },
     "metadata": {},
     "output_type": "display_data"
    }
   ],
   "source": [
    "A = 0.5*[1 1 -2;1 1 2; 1 -1 2; 1 -1 -2]\n",
    "U_f, S_f, Vt_f = svd(A;full = false)\n",
    "for i in 1:length(S_f)\n",
    "    S_f[i] = round(S_f[i], digits = 10)\n",
    "end\n",
    "display(\"U matrix\")\n",
    "display(U_f)\n",
    "\n",
    "display(\"Singular values\")\n",
    "display(S_f)\n",
    "\n",
    "display(\"V matrix\")\n",
    "display(Vt_f)\n",
    "# The following matrix is the compact matrix of A"
   ]
  },
  {
   "cell_type": "code",
   "execution_count": 3,
   "metadata": {},
   "outputs": [
    {
     "data": {
      "text/plain": [
       "\"U matrix\""
      ]
     },
     "metadata": {},
     "output_type": "display_data"
    },
    {
     "data": {
      "text/plain": [
       "4×3 Matrix{Float64}:\n",
       " -0.5  -0.5  -0.5\n",
       "  0.5  -0.5  -0.5\n",
       "  0.5  -0.5   0.5\n",
       " -0.5  -0.5   0.5"
      ]
     },
     "metadata": {},
     "output_type": "display_data"
    },
    {
     "data": {
      "text/plain": [
       "\"Singular values\""
      ]
     },
     "metadata": {},
     "output_type": "display_data"
    },
    {
     "data": {
      "text/plain": [
       "3-element Vector{Float64}:\n",
       " 2.0\n",
       " 1.0\n",
       " 1.0"
      ]
     },
     "metadata": {},
     "output_type": "display_data"
    },
    {
     "data": {
      "text/plain": [
       "\"V matrix\""
      ]
     },
     "metadata": {},
     "output_type": "display_data"
    },
    {
     "data": {
      "text/plain": [
       "3×3 adjoint(::Matrix{Float64}) with eltype Float64:\n",
       " 0.0  -1.0  -0.0\n",
       " 0.0  -0.0  -1.0\n",
       " 1.0  -0.0  -0.0"
      ]
     },
     "metadata": {},
     "output_type": "display_data"
    }
   ],
   "source": [
    "B = 0.5*[1 1 1 1;-1 1 1 -1; 2 -2 -2 2]\n",
    "F = svd(B;full = true)\n",
    "for i in 1:length(S_f)\n",
    "    S_f[i] = round(S_f[i], digits = 10)\n",
    "end\n",
    "display(\"U matrix\")\n",
    "display(U_f)\n",
    "\n",
    "display(\"Singular values\")\n",
    "display(S_f)\n",
    "\n",
    "display(\"V matrix\")\n",
    "display(Vt_f)\n",
    "# The following matrix is the full matrix of B"
   ]
  },
  {
   "cell_type": "code",
   "execution_count": 4,
   "metadata": {},
   "outputs": [
    {
     "data": {
      "text/plain": [
       "\"U matrix\""
      ]
     },
     "metadata": {},
     "output_type": "display_data"
    },
    {
     "data": {
      "text/plain": [
       "4×3 Matrix{Float64}:\n",
       " -0.5  -0.5  -0.5\n",
       "  0.5  -0.5  -0.5\n",
       "  0.5  -0.5   0.5\n",
       " -0.5  -0.5   0.5"
      ]
     },
     "metadata": {},
     "output_type": "display_data"
    },
    {
     "data": {
      "text/plain": [
       "\"Singular values\""
      ]
     },
     "metadata": {},
     "output_type": "display_data"
    },
    {
     "data": {
      "text/plain": [
       "3-element Vector{Float64}:\n",
       " 2.0\n",
       " 1.0\n",
       " 1.0"
      ]
     },
     "metadata": {},
     "output_type": "display_data"
    },
    {
     "data": {
      "text/plain": [
       "\"V matrix\""
      ]
     },
     "metadata": {},
     "output_type": "display_data"
    },
    {
     "data": {
      "text/plain": [
       "3×3 adjoint(::Matrix{Float64}) with eltype Float64:\n",
       " 0.0  -1.0  -0.0\n",
       " 0.0  -0.0  -1.0\n",
       " 1.0  -0.0  -0.0"
      ]
     },
     "metadata": {},
     "output_type": "display_data"
    }
   ],
   "source": [
    "B = 0.5*[1 1 1 1;-1 1 1 -1; 2 -2 -2 2]\n",
    "F = svd(B;full = false)\n",
    "for i in 1:length(S_f)\n",
    "    S_f[i] = round(S_f[i], digits = 10)\n",
    "end\n",
    "display(\"U matrix\")\n",
    "display(U_f)\n",
    "\n",
    "display(\"Singular values\")\n",
    "display(S_f)\n",
    "\n",
    "display(\"V matrix\")\n",
    "display(Vt_f)\n",
    "# The following matrix is the compact matrix of B"
   ]
  },
  {
   "cell_type": "markdown",
   "metadata": {},
   "source": [
    "In the above 4 sections of code where the results for Full and Compact SVD of A and B have been provided initially the SVD function was producing an error. This error of slightly incorrect value being produced has been solved. The approach to solve this error involved rounding the the singular values of the SVD produced as this was what was specifically effected."
   ]
  },
  {
   "cell_type": "markdown",
   "metadata": {},
   "source": [
    "### 1.1.2 Error Bounds\n",
    "\n",
    "Consider a linear system \n",
    "$$\n",
    "\\boldsymbol{y} = \\boldsymbol{A} \\boldsymbol{x} + \\boldsymbol{w},\n",
    "$$\n",
    "where $\\boldsymbol{y} \\in \\mathbb{R}^m$ is the measurement vector, $\\boldsymbol{A} \\in \\mathbb{R}^{m \\times n}$ is a given matrix, $\\boldsymbol{x} \\in \\mathbb{R}^{n}$ is the unknown data, and $\\boldsymbol{w} \\in \\mathbb{R}^m$ represents random noise. Assume that $\\boldsymbol{w} \\sim  \\mathcal{N}(0,\\sigma^2 I)$. Let $\\hat{\\boldsymbol{x}}$ be the least squares estimate of $\\boldsymbol{x}$.\n",
    "\n",
    "1. Find lower and upper bounds of \n",
    "   $$\n",
    "      \\| \\hat{\\boldsymbol{x}} - \\boldsymbol{x} \\|^2\n",
    "   $$\n",
    "   using $\\| \\boldsymbol{w} \\|^2$ and singular values of $\\boldsymbol{A}$. Justify your results by showing your derivations.\n"
   ]
  },
  {
   "cell_type": "markdown",
   "metadata": {},
   "source": [
    "#### Solution 1.1.2.1:\n",
    "\n",
    "Since $(A = U \\Sigma V^{\\top})$, the least squares solution is given by the following: \n",
    "\\begin{gather*}\n",
    "\\hat{x} =A^{+} y=A^{+}\\left(A x_{0}+w\\right) \\\\\n",
    "=\\left(A^{\\top} A\\right)^{-1} A^{\\top}\\left(A x_{0}+w\\right) \\\\\n",
    "=x_{0}+V \\mathbf{\\Sigma}^{-1} U^{\\top} w \n",
    "\\end{gather*}\n",
    "Hence, $\\left\\|\\hat{x}-x_{0}\\right\\|_{2}=\\left\\|V \\Sigma^{-1} U^{T} \\omega\\right\\|$ and therefore,\n",
    "$$\n",
    "\\left\\|\\hat{x}-x_{0}\\right\\|^2=\\left\\|V \\Sigma^{-1} U^{T} \\omega\\right\\|^2\n",
    "$$\n",
    "\n",
    "We must first observe that it is  possible to simply the above equation. Since we know that $V$ is an unitary and orthogonal matrix. This means mathematically that: $\\left.V^{T} V=V V^{T} = I\\right.$\n",
    "We can therefore use the below proven equation to simplify.\n",
    "\\begin{gather*}\n",
    "\\|\\textbf{Vz}\\|^2=(\\textbf{Vz})(\\textbf{Vz})^T=\\textbf{zV}\\textbf{V}^T\\textbf{z}^T = \\textbf{z}\\textbf{z}^T = \\|\\textbf{z}\\|^2\n",
    "\\end{gather*}\n",
    "\n",
    "Because $\\boldsymbol{A} \\in \\mathbb{R}^{m \\times n}$ is a real matrix and $\\Sigma^{-1} U^{T} w$ has the dimension of $\\mathbb{R}^{n}$, we can take $z =\\Sigma^{-1} U^{T} w$ as $z\\in \\mathbb{R}^{n}$.\n",
    "\n",
    "The simplified equation then holds:\n",
    "$$\n",
    "\\left\\|\\hat{x}-x_{0}\\right\\|^2=\\left\\|V \\Sigma^{-1} U^{T} \\omega\\right\\|^2 =\\left\\| \\Sigma^{-1} U^{T} \\omega\\right\\|^2\n",
    "$$\n",
    "\n",
    "Assume $z$ as $\\left\\|\\ U^{T} \\omega\\right\\|$.\n",
    "Given $z \\in \\mathbb{R}^{n}$ and $\\Sigma^{-1} \\in \\mathbb{R}^{n \\times n}$, we thus can show that\n",
    "$$\n",
    "\\begin{gathered}\n",
    "\\left\\|\\Sigma^{-1} z\\right\\|=\\sqrt{\\frac{z_{1}^{2}}{\\sigma_{1}}+\\frac{z_{2}}{\\sigma_{2}}^{2}+\\ldots+\\frac{z_{n}{ }^{2}}{\\sigma_{n}}} \\\\\n",
    "\\sigma_{\\max }^{-1}\\|z\\|=\\sqrt{\\frac{z_{1}}{\\sigma_{\\max }}^{2}+\\frac{z_{2}}{\\sigma_{\\max }}^{2}+\\ldots+\\frac{z_{n}{ }^{2}}{\\sigma_{\\max }}} \\\\\n",
    "\\sigma_{\\min }^{-1}\\|z\\|=\\sqrt{\\frac{z_{1}}{\\sigma_{\\min }}^{2}+\\frac{z_{2}}{\\sigma_{\\min }}^{2}+\\ldots+\\frac{z_{n}{ }^{2}}{\\sigma_{\\min }}}\n",
    "\\end{gathered}\n",
    "$$\n",
    "Thus, it can be easily showed that:\n",
    "$$ \\label{eq1}\n",
    "\\sigma_{\\operatorname{max}}^{-1}\\|z\\| \\leq\\left\\|\\Sigma^{-1} z\\right\\| \\leq \\sigma_{\\min }^{-1}\\|z\\| \n",
    "$$\n",
    "\n",
    "However, we still need to find the bounds of $\\left\\|\\ U^{T} \\omega\\right\\|$ to solve for the lower and upper bounds.\n",
    "\n",
    "Because it's 2-norm, we simply have $0 \\leq\\left\\|U^{T} \\omega\\right\\| $.\n",
    "We also know that every induced norm is sub-multiplicative, \n",
    "$$\n",
    "\\|A B\\| \\leq\\|A\\|\\|B\\|\n",
    "$$\n",
    "Thus, we square the above lemma and we can get\n",
    "$$\n",
    "\\left\\|U^{T} \\omega\\right\\|^{2} \\leq\\|\\omega\\|^{2}\n",
    "$$ \n",
    "We can infer the result because $U$ is an unitary and orthogonal matrix. Therefore, $\\left.U^{T} U=U U^{T}=\\left\\|U^{T}\\right\\|^{2} = I\\right.$.\n",
    "\n",
    "Hence,\n",
    "$$\n",
    "0\\leq\\left\\|U^{T} \\omega\\right\\|\\leq\\|\\omega\\|^{2}\n",
    "$$\n",
    "\n",
    "Based on the above previous equations, we can then derive the error bounds of $\\left\\|\\Sigma^{-1} U^{T} w\\right\\|^2$ as follows:\n",
    "\\begin{gather*}\n",
    "0 \\leq\\left\\|V \\Sigma^{-1} U^{T} \\omega\\right\\|^{2} = \\left\\|\\Sigma^{-1} U^{T} \\omega\\right\\|^{2} \\leq \\infty \\\\\n",
    "\\sigma_{\\max }^{-2}\\left\\|U^{T} \\omega\\right\\|^{2} \\leq\\left\\|\\Sigma^{-1} U^{T} \\omega\\right\\|^{2} \\leq \\sigma_{\\min }^{-2}\\left\\|U^{T} \\omega\\right\\|^{2}\\\\\n",
    "0 \\leq \\sigma_{\\max }^{-2}\\left\\|U^{T} \\omega\\right\\|^{2} \\leq\\left\\|\\Sigma^{-1} U^{T} \\omega\\right\\|^{2} \\leq \\sigma_{\\min }^{-2}\\left\\|U^{T} \\omega\\right\\|^{2}\\leq \\sigma_{\\min }^{-2}\\|\\omega\\|^{2}\n",
    "\\end{gather*}\n",
    "\n",
    "We finally obtain the bounds for $\\left\\|\\Sigma^{-1} U^{T} \\omega\\right\\|^{2}$:\n",
    "$$\n",
    "0 \\leq\\left\\|\\Sigma^{-1} U^{T} \\omega\\right\\|^{2} \\leq \\sigma_{\\min }^{-2}\\|\\omega\\|^{2}\n",
    "$$\n",
    "Therefore, the upper and lower bound of $\\left\\|\\hat{x}-x_{0}\\right\\|^{2}$ are $\\sigma_{m i n}^{-2}\\|\\omega\\|^{2}$ and 0 respectively, shown below as well:\n",
    "$$\n",
    "0 \\leq\\left\\|\\hat{x}-x_{0}\\right\\|^{2}\\leq \\sigma_{\\min }^{-2}\\|\\omega\\|^{2}\n",
    "$$"
   ]
  },
  {
   "cell_type": "markdown",
   "metadata": {},
   "source": [
    "2. Find \n",
    "   $$\n",
    "      \\text{E}_{W}[ \\| \\hat{\\boldsymbol{x}} - \\boldsymbol{x} \\|^2 ]\n",
    "   $$\n",
    "   using $\\sigma^2$ and singular values of $\\boldsymbol{A}$. Justify your results by showing your derivations.\n",
    "\n",
    "#### Solution 1.1.2.2\n",
    "\n",
    "\\begin{gather*} \n",
    "\\mathrm{E}_{W}\\left[|\\hat{\\boldsymbol{x}}-\\boldsymbol{x}|^{2}\\right] =\\mathrm{E}_{W}\\left[\\left|V \\Sigma^{-1} U^{T} \\omega\\right|^{2}\\right] \\\\ =\\mathrm{E}_{W}\\left[\\left|\\Sigma^{-1} U^{T} \\omega\\right|^{2}\\right] \\\\ \n",
    "=\\mathrm{E}_{W}\\left[\\frac{1}{\\sigma_{1}^2}\\left|U^{T} \\omega\\right|^2+\\frac{1}{\\sigma_{2}^2}\\left|U^{T} \\omega\\right|^2+\\ldots+\\frac{1}{\\sigma_{n}^2}\\left|U^{T} \\omega\\right|^{2}\\right]\\\\ \n",
    "=\\mathrm{E}_{W}\\left[\\left(\\frac{1}{\\sigma{1}^2}+\\frac{1}{\\sigma_{2}^2}+\\ldots+\\frac{1}{\\sigma_{n}^2}\\right)\\left|U^{T} \\omega\\right|^{2}\\right]\n",
    "\\end{gather*}\n",
    "\n",
    "\n",
    "If we break down $ \\mathrm{E}_{W} \\left[\\| U^{T} \\omega\\|  ^{2} \\right]$, We know that:\n",
    "$$ \\mathrm{E}_{W} \\left[\\| U^{T} \\omega\\|  ^{2} \\right] =  \\mathrm{Var}\\left [ \\|U^{T} \\omega\\| \\right ] + \\mathrm{E}_{W}\\left [ \\|U^{T} \\omega\\| \\right ] ^{2} $$\n",
    "$ \\mathrm{E}_{W}\\left [ \\|U^{T} \\omega\\| \\right ] ^{2} = 0 $ because $ \\omega $ belongs to the Gaussian distribution $\\omega \\sim \\mathcal{N}(0,\\,\\sigma^{2}I)\\,$ and we know that $U^{T} \\omega$ has dimension of of $n$x$1$ matrix. $U^{T} \\omega$ is a vector with each row being a normal distribution with variance $\\sigma^2$. This is because $U^{T}$ is an orthonormal matrix; therefore, each row $u_i$ will be multiplied by $\\omega$.\n",
    "\n",
    "\n",
    "Hence, \n",
    "$$\n",
    " \\mathrm{E}_{W} \\left[\\| U^{T} \\omega\\|  ^{2} \\right] =  \\mathrm{Var}\\left [ \\|U^{T} \\omega\\| \\right ] = n \\sigma ^{2} \n",
    "$$\n",
    "\n",
    "Therefore,  the final bounds of $\\text{E}_{W}[ \\| \\hat{\\boldsymbol{x}} - \\boldsymbol{x} \\|^2 ]$ is:\n",
    "$$\n",
    "\\sigma_{\\max }^{-2}n\\sigma^2 \\leq\\text{E}_{W}[ \\| \\hat{\\boldsymbol{x}} - \\boldsymbol{x} \\|^2 ]\\leq \\sigma_{\\min }^{-2}n\\sigma^2\n",
    "$$"
   ]
  },
  {
   "cell_type": "markdown",
   "metadata": {},
   "source": [
    "\n",
    "3. Design simulations to numerically verify your results.   \n",
    "   1. To simplify simulations, let $m=n=2$. \n",
    "   2. To evaluate the expectation $\\text{E}[\\cdot]$, at least 100 random trials are expected. \n",
    "   3. The following functions can be useful: `Random.seed!(3);`, `A = randn(Float64,2,2)`, and `svd` from `LinearAlgebra` library."
   ]
  },
  {
   "cell_type": "code",
   "execution_count": 5,
   "metadata": {},
   "outputs": [
    {
     "name": "stdout",
     "output_type": "stream",
     "text": [
      "  simulation expectation is  8.601498980706455e6\n",
      "  theo_upper bound is  3.487034054201745e7\n",
      "  theo_lower bound is  1.1363793532523072"
     ]
    }
   ],
   "source": [
    "m = n = 2\n",
    "num = 1000000\n",
    "simu_ex,theo_upper,theo_lower = 0, 0, 0\n",
    "using Random \n",
    "using LinearAlgebra\n",
    "Random.seed!(3);\n",
    "\n",
    "for i = 1:num\n",
    "    A = randn(Float64,m,n)\n",
    "    # how to get diagonal matrix\n",
    "    U,s,Vt = svd(A)\n",
    "    w = randn(Float64,m)\n",
    "    S = Diagonal(s)\n",
    "    theo_upper = theo_upper +  (1/minimum(s)).^2*n\n",
    "    theo_lower = theo_lower + (1/maximum(s)).^2*n\n",
    "    simu_ex = simu_ex + norm(inv(S)*transpose(U)*w).^2\n",
    "   \n",
    "end\n",
    "theo_upper = theo_upper/num\n",
    "theo_lower = theo_lower/num\n",
    "simu_ex = simu_ex/num\n",
    "print(\"  simulation expectation is  \",simu_ex)\n",
    "print(\"\\n  theo_upper bound is  \",theo_upper)\n",
    "print(\"\\n  theo_lower bound is  \",theo_lower)"
   ]
  },
  {
   "cell_type": "markdown",
   "metadata": {},
   "source": [
    "### Hence, the simulation result is within upper and lower bounds."
   ]
  },
  {
   "cell_type": "markdown",
   "metadata": {},
   "source": [
    "## 1.2 Sparse Linear Inverse Problems: $\\ell_0$-Minimization"
   ]
  },
  {
   "cell_type": "markdown",
   "metadata": {},
   "source": [
    "### 1.2.1 Measurement Matrix Generation and Properties (30%)\n",
    "\n",
    "Write a function to first generate a random Gaussian matrix $\\boldsymbol{A} \\in \\mathbb{R}^{m \\times n}$ (using `randn`) and then normalize the columns so that $\\| \\boldsymbol{A}_{:,n} \\|_2 = 1,~ \\forall n$."
   ]
  },
  {
   "cell_type": "markdown",
   "metadata": {},
   "source": [
    "Below is the function, 'gen_GaussianMat', which is coded to randomly generate a matrix with specific row and column dimension sizes and then proceed to normalize every column within that generated matrix."
   ]
  },
  {
   "cell_type": "code",
   "execution_count": 6,
   "metadata": {},
   "outputs": [
    {
     "data": {
      "text/plain": [
       "5×4 Matrix{Float64}:\n",
       " -0.189316    0.840673   0.27806     0.634461\n",
       "  0.722332    0.246541   0.0874164  -0.612907\n",
       "  0.538106   -0.289817  -0.817533    0.350361\n",
       "  0.0848127  -0.303462   0.495163   -0.208653\n",
       "  0.381635    0.237493  -0.0386618   0.235617"
      ]
     },
     "execution_count": 6,
     "metadata": {},
     "output_type": "execute_result"
    }
   ],
   "source": [
    "function gen_GaussianMat(m,n)\n",
    "#normalize columns\n",
    "    A = randn(m,n)\n",
    "    for i = 1:n\n",
    "        v = A[:,i]\n",
    "        A[:,i] = v/norm(v,2)\n",
    "    end\n",
    "    return A\n",
    "end\n",
    "\n",
    "#test\n",
    "gen_GaussianMat(5,4)"
   ]
  },
  {
   "cell_type": "markdown",
   "metadata": {},
   "source": [
    "### Mutual Coherence Constant (MCC)\n",
    "\n",
    "1. Write a function to calculate MCC $\\mu(\\boldsymbol{A})$. \n",
    "2. Test your function with an $\\boldsymbol{A} \\in \\mathbb{R}^{7 \\times 10}$. \n",
    "3. Comment on the complexity of computing MCC for a general matrix $\\boldsymbol{A} \\in \\mathbb{R}^{m \\times n}$. \n"
   ]
  },
  {
   "cell_type": "markdown",
   "metadata": {},
   "source": [
    "The function below is designed to follow the below rules and implement the equation to calculate $\\mu(\\mathbb{A})$. This equation is what defines the Mutual Coherence of a matrix, which is denoted as $\\mu(\\mathbb{A})$.\n",
    "\n",
    "\\begin{gather*}\n",
    "\\mu(\\mathbb{A}) = \\max\\limits_{i\\neq j}\\frac{|\\langle\\textbf{a}_i,\\textbf{a}_j\\rangle|}{\\|\\textbf{a}_i\\|_2\\|\\textbf{a}_j\\|_2}\n",
    "\\end{gather*}\n",
    "When $\\|\\textbf{a}_i\\|_2, \\forall i \\in [n]$, then $\\mu(\\mathbb{A}) = \\max\\limits_{i\\neq j}|\\langle\\textbf{a}_i,\\textbf{a}_j\\rangle|$.\n",
    "\n",
    "The function, 'MCC', has a random Gaussian matrix of specific size taken as an input. The columns of this matrix, which are normalized from by being created from our previous function, 'gen_GaussianMat', are then analysed for correlation between each other to find the 2 columns which are the most correlated. At the end of the function, the value of $\\mu(\\mathbb{A})$ is returned.\n",
    "\n",
    "A way in which we optimised the function and reduced the complexity of the problem was to was to increment the value of 'c', which is the lower bound of the inner 'for' loop, at every iteration . This optimised the function as no pair of columns is checked the same pair twice.\n"
   ]
  },
  {
   "cell_type": "code",
   "execution_count": 7,
   "metadata": {},
   "outputs": [
    {
     "data": {
      "text/plain": [
       "MCC (generic function with 1 method)"
      ]
     },
     "execution_count": 7,
     "metadata": {},
     "output_type": "execute_result"
    }
   ],
   "source": [
    "# function MCC computes the mutual coherence of the matrix A\n",
    "# inputs : nomalized matrix A\n",
    "# output : the mutual coherence of matrix A\n",
    "\n",
    "function MCC(A)\n",
    "    \n",
    "    μ = newμ = 0\n",
    "    c = 1 # increment c at every iteration to not check the same pair again\n",
    "    m = length(A[:,1])\n",
    "    n = length(A[1,:])\n",
    "    # A is an already normalized matrix\n",
    "    for i = 1:n\n",
    "        for j = c:n\n",
    "            if i!=j\n",
    "                newμ = abs(dot(A[:,i], A[:,j])) # compute the dot product of the 2 columns\n",
    "            end\n",
    "        μ = max(μ,newμ) # chech whether that the new computed value is bigger that the current maximum\n",
    "        end\n",
    "        c+=1 \n",
    "    end\n",
    "    return μ\n",
    "    \n",
    "end"
   ]
  },
  {
   "cell_type": "markdown",
   "metadata": {},
   "source": [
    "Test MCC function with a matrix $\\boldsymbol{A} \\in \\mathbb{R}^{7 \\times 10}$."
   ]
  },
  {
   "cell_type": "code",
   "execution_count": 8,
   "metadata": {},
   "outputs": [
    {
     "name": "stdout",
     "output_type": "stream",
     "text": [
      " The Mutual Coherence Constant is 0.8674166677010916"
     ]
    }
   ],
   "source": [
    "    A = gen_GaussianMat(7,10);\n",
    "    print(\" The Mutual Coherence Constant is \");\n",
    "    μ = MCC(A);\n",
    "    print(μ);"
   ]
  },
  {
   "cell_type": "markdown",
   "metadata": {},
   "source": [
    "Comment on the complexity of computing MCC for a general matrix  $\\boldsymbol{A} \\in \\mathbb{R}^{m \\times n}$. \n",
    "\n",
    "The computational complexity when calculating the MCC for a matrix is dependent on the number of columns that the matrix has. To note also the number of columns is the only factor that effects this complexity. \n",
    "\n",
    "For the example of a general matrix,  $\\boldsymbol{A} \\in \\mathbb{R}^{m \\times n}$, where the number of columns is denoted by 'n', has the computational complexity of O(n!).\n",
    "\n",
    "The example we tested above: matrix  $\\boldsymbol{A} \\in \\mathbb{R}^{7 \\times 10}$ has a complexity of O(10!)."
   ]
  },
  {
   "cell_type": "markdown",
   "metadata": {},
   "source": [
    "\n",
    "### Restricted Isometry Constant (RIC)\n",
    "\n",
    "1. Write a function to calculate RIC $\\delta_K(\\boldsymbol{A})$. \n",
    "2. Test your function with an $\\boldsymbol{A}\\in \\mathbb{R}^{7 \\times 10}$ for $K=2,3$. \n",
    "3. Comment on the complexity of computing RIC for a general matrix $\\boldsymbol{A} \\in \\mathbb{R}^{m \\times n}$. "
   ]
  },
  {
   "cell_type": "markdown",
   "metadata": {},
   "source": [
    "The definition provided to us in notes is as follows: The RIC $\\delta_K$ is defined as the smallest constant $\\delta$ for which the K-RIP holds, i.e., \n",
    "\\begin{gather*}\n",
    "\\delta_K = inf\\{\\delta: (1-\\delta)\\|\\mathbf{q}\\|_2^2 \\leq\\|\\mathbf{A}_T\\mathbf{q}\\|_2^2 \\leq(1+\\delta)\\|\\mathbf{q}\\|_2^2. \\forall|T| \\leq K, \\forall\\mathbf{q} \\in \\mathbb{R}^{|T|}\\}.\n",
    "\\end{gather*}\n",
    "\n",
    "The function 'RIC' takes a random Gaussian matrix of specific size as an input, just like the 'MCC' function, along with a specified value of 'K'. The stages within the function begin with the initialisation of several variables, followed by the calculation of the eigenvalues for all the sub-matrices composed from all the combinations of K vectors where K$\\leq $m. Later on these values are then used to eventually calculate the $\\delta$_global value, which is returned at the end of the function.\n"
   ]
  },
  {
   "cell_type": "code",
   "execution_count": 9,
   "metadata": {},
   "outputs": [
    {
     "data": {
      "text/plain": [
       "RIC (generic function with 1 method)"
      ]
     },
     "execution_count": 9,
     "metadata": {},
     "output_type": "execute_result"
    }
   ],
   "source": [
    "using Combinatorics\n",
    "\n",
    "A = gen_GaussianMat(7,10)\n",
    "\n",
    "# function RIC computes the restricted isometry constant of matrix A for a certain k\n",
    "# inputs: matrix A, the parameter K\n",
    "# output: δ the restricted isometry constant\n",
    "function RIC(A,k)\n",
    "\n",
    "    no_cols=length(A[1,:]);\n",
    "    no_rows= length(A[:,1]);\n",
    "    col_indexes=collect(1:no_cols);\n",
    "    δ_global = 2;\n",
    "    \n",
    "    B=zeros(no_rows,k);\n",
    "    x=collect(combinations(col_indexes,k)); # generate the combinations of all k columns\n",
    "\n",
    "    for row_index in 1:length(x)\n",
    "        for column_index in 1:k\n",
    "            B[:,column_index] = A[:,x[row_index][column_index]]; # form the matrix with k column with the current combination\n",
    "        end\n",
    "\n",
    "        eigenvalues = eigvals((B')*B); # compute the eigen values of B \n",
    "        # our approach uses the equivalence for tall matrices as K>m in our case \n",
    "        for i in 1:length(eigenvalues)\n",
    "            eigenvalues[i] = round(eigenvalues[i], digits = 10)\n",
    "        end\n",
    "\n",
    "        min_eig = eigenvalues[1];\n",
    "        max_eig = eigenvalues[length(eigenvalues)];\n",
    "\n",
    "        i=1;\n",
    "        while min_eig == 0\n",
    "            min_eig = eigenvalues[i+1];\n",
    "        end\n",
    "\n",
    "        δ_low = 1 - min_eig  # compute the minimum value for the lower part of the inequality\n",
    "        δ_high = max_eig - 1 # compute the maximum for the higher part of the inequality\n",
    "        δ_local = max(δ_low, δ_high) # we use max to satisfy both of the inqualities \n",
    "        δ_global = min(δ_global, δ_local) # check whether the new δ is bigger than the minimum so far\n",
    "    end\n",
    "    return δ_global;\n",
    "end"
   ]
  },
  {
   "cell_type": "markdown",
   "metadata": {},
   "source": [
    "Test RIC function with a matrix $\\boldsymbol{A} \\in \\mathbb{R}^{7 \\times 10}$."
   ]
  },
  {
   "cell_type": "code",
   "execution_count": 10,
   "metadata": {},
   "outputs": [
    {
     "name": "stdout",
     "output_type": "stream",
     "text": [
      "Restricted Isometry Constant for k=2 is 0.0005907417999999609\n",
      "Restricted Isometry Constant for k=3 is 0.033658439999999956\n"
     ]
    }
   ],
   "source": [
    "    A = gen_GaussianMat(7,10);\n",
    "    print(\"Restricted Isometry Constant for k=2 is \");\n",
    "\n",
    "    delta2 = RIC(A,2);\n",
    "    println(delta2);\n",
    "\n",
    "    print(\"Restricted Isometry Constant for k=3 is \");\n",
    "\n",
    "    delta3 = RIC(A,3);\n",
    "    println(delta3);"
   ]
  },
  {
   "cell_type": "markdown",
   "metadata": {},
   "source": [
    "Comment on the complexity of computing RIC for a general matrix $\\boldsymbol{A} \\in \\mathbb{R}^{m \\times n}$\n",
    "\n",
    "The RIC is different from the MCC. As mentioned before, the MCC is considered easy to compute when given the matrix $\\boldsymbol{A}$. However, the computational complexity of the RIC for matrix $\\boldsymbol{A}$ can dramatically increase with the sparsity K. In other words, the complexity of RIC heavily depends on the fixed 'K' value.\n",
    "\n",
    "For example, a general matrix,  $\\boldsymbol{A} \\in \\mathbb{R}^{m \\times n}$ has the computational complexity of O($2^K$).\n",
    "\n",
    "In the two examples that were tested above, the complexity of RIC for $\\boldsymbol{A} \\in \\mathbb{R}^{7 \\times 10}$ when K=2 is O($2^2$) and when K=3 is O($2^3$)\n"
   ]
  },
  {
   "cell_type": "markdown",
   "metadata": {},
   "source": [
    "### MCC and RIC\n",
    "\n",
    "Discuss the relationship between $\\mu(\\boldsymbol{A})$ and RIC $\\delta_2(\\boldsymbol{A})$. \n",
    "\n",
    "MCC is defined as the correlation between the most correlated 2 normalized column vectors in the matrix.\n",
    "\n",
    "On the other hand, when calculating the RIC, we first must compute the eigenvalues for all the sub-matrices composed from all the combinations of K vectors, with K <= m. When the vectors in the matrix are orthogonal, the eigenvalues will be equal to 1; hence, a RIC (1-sigma) very close to 1 means that the vectors are closely correlated. This is proved and shown in our results above since the RIC for K=2 is significantly lower than a RIC for K=3. This is because it far harder to find 3 orthogonal vectors when compared to finding 2, but also true due to the monotonicity of RIC which tells us that $\\delta_1\\leq\\delta_2\\leq\\delta_3\\leq\\dots$\n",
    "\n",
    "Taking all factors previously discussed into account, MCC is quantizing the equivalent thing as RIC for K=2. Both providing a measurement of the correlation between any 2 vectors in the matrix. However, a RIC close to 0 is equivalent to a MCC close to 1.\n"
   ]
  },
  {
   "cell_type": "markdown",
   "metadata": {},
   "source": [
    "### 1.2.2 $\\ell_0$-Minimization Methods (40%)"
   ]
  },
  {
   "cell_type": "markdown",
   "metadata": {},
   "source": [
    "#### Sparse Signal Generation\n",
    "\n",
    "Let \n",
    "$$\n",
    "\\boldsymbol{y} = \\boldsymbol{A} \\boldsymbol{x} + \\boldsymbol{w},\n",
    "$$\n",
    "where $\\boldsymbol{y} \\in \\mathbb{R}^m$, $\\boldsymbol{A} \\in \\mathbb{R}^{m \\times n}$ with unit $\\ell_2$-norm columns, $\\boldsymbol{x} \\in \\mathbb{R}^n$ is the sparse signal, and $\\boldsymbol{w} \\in \\mathbb{R}^m$ represents random noise with $\\boldsymbol{w} \\sim \\mathcal{N}(0,\\sigma^2 I)$. For a given number $S$ of nonzero elements, one has $\\| \\boldsymbol{x} \\|_0 = S$, $\\mathcal{T}$ is the support set of nonzero elements, and $\\boldsymbol{x}_{\\mathcal{T}} \\sim \\mathcal{N}(0,I)$. \n",
    "\n",
    "Write a function `sparse_data_gen` to generate sparse data and measurements according to the above description. The following requirements should be met. \n",
    "* Users can specify $m,n,S,\\sigma$. \n",
    "* Users can get $y,A,x,\\mathcal{T}$ as returns of the function. \n",
    "\n",
    "The function `StatsBase > sample` can be useful. "
   ]
  },
  {
   "cell_type": "code",
   "execution_count": 11,
   "metadata": {},
   "outputs": [
    {
     "data": {
      "text/plain": [
       "sparse_data_gen (generic function with 1 method)"
      ]
     },
     "execution_count": 11,
     "metadata": {},
     "output_type": "execute_result"
    }
   ],
   "source": [
    "using SparseArrays\n",
    "using StatsBase\n",
    "using JLD2\n",
    "\n",
    "function sparse_data_gen(m::Int64,n::Int64,S::Int64,σ::Float64)\n",
    "\n",
    "    A = gen_GaussianMat(m,n) # generate a nomalized m by n matrix\n",
    "    items = [j for j= 1:n]\n",
    "    wv = [1 for j = 1:n]\n",
    "    w = σ*randn(Float64,m,1) # generate the noise with variance σ\n",
    "    # sparse support, or index.\n",
    "    x = zeros(Float64,n)\n",
    "    sparseSupport = sample( items , Weights(wv) , S, replace = false) # pick S random position for the non zero elements \n",
    "    randnTemp = randn(S, 1)                                           # of x\n",
    "    x[sparseSupport] = randnTemp #fill x with all the non-zero elements\n",
    "    \n",
    "    y = A*x + w\n",
    "\n",
    "    return y,A,x,sparseSupport \n",
    "end"
   ]
  },
  {
   "cell_type": "code",
   "execution_count": 12,
   "metadata": {},
   "outputs": [
    {
     "data": {
      "text/plain": [
       "\"see if users want to use it\\n\""
      ]
     },
     "execution_count": 12,
     "metadata": {},
     "output_type": "execute_result"
    }
   ],
   "source": [
    "\"\"\"\n",
    "see if users want to use it\n",
    "\"\"\"\n",
    "# print(\"Please input m \\n\") \n",
    "# m = readline()\n",
    "# println(\"m is \", m)\n",
    "\n",
    "# print(\"Please input n \\n\") \n",
    "# n = readline()\n",
    "# println(\"n is \", n)\n",
    "\n",
    "# print(\"Please input S \\n\") \n",
    "# S = readline()\n",
    "# println(\"S is \", S)\n",
    "\n",
    "# print(\"Please input σ \\n\") \n",
    "# σ = readline()\n",
    "# println(\"σ is \", σ)\n",
    "# print(\"\\n\")\n",
    "\n",
    "# m= parse(Int,m)\n",
    "# n= parse(Int,n)\n",
    "# S= parse(Int,S)\n",
    "# σ= parse(Float64,σ)\n",
    "\n",
    "\n",
    "# sparse_data_gen(m,n,S,σ)"
   ]
  },
  {
   "cell_type": "markdown",
   "metadata": {},
   "source": [
    "#### Numerical Comparison\n",
    "\n",
    "Implement two greedy algorithms including \n",
    "\n",
    "1. Subspace pursuit algorithm  \n",
    "2. Another greedy algorithm (OMP or IHT)\n",
    "\n"
   ]
  },
  {
   "cell_type": "markdown",
   "metadata": {},
   "source": [
    "# OMP implementation"
   ]
  },
  {
   "cell_type": "markdown",
   "metadata": {},
   "source": [
    "The following section of code is related to the OMP alogrithm, followed by testing its performance. It contains functions that are required for OMP and the actual OMP implementation named accordingly. See comments for the in depth explanations of the functions. "
   ]
  },
  {
   "cell_type": "code",
   "execution_count": 13,
   "metadata": {},
   "outputs": [
    {
     "name": "stdout",
     "output_type": "stream",
     "text": [
      "x = [-0.3879427403496277, 0.9255409134924106, 0.0, 0.0, 0.0, 0.0, 0.0, 0.0, 0.0, 0.0]\n",
      "x_sol = omp(y, A, 4) = [-0.3879427403496277; 0.9255409134924104; 0.0; 0.0; 0.0; 0.0; 0.0; 0.0; 0.0; 0.0]\n",
      "norm(x - x_sol) = 2.220446049250313e-16\n"
     ]
    },
    {
     "data": {
      "text/plain": [
       "2.220446049250313e-16"
      ]
     },
     "execution_count": 13,
     "metadata": {},
     "output_type": "execute_result"
    }
   ],
   "source": [
    "# find the index of the column of matrix A which yields the higest dot product with a vector\n",
    "# * inputs vector (the vector to be checked) and A(the matrix which has the columns)\n",
    "# * output index (the index of the found column)\n",
    "function max_index_finder(A,vector)\n",
    "    max=0;                         \n",
    "    index=0;\n",
    "    no_cols=length(A[1,:]);\n",
    "    for i in 1:no_cols\n",
    "        if(abs(dot(A[:,i],vector))>max)\n",
    "            index=i;\n",
    "            max=abs(dot(A[:,i],vector));\n",
    "        end    \n",
    "    end\n",
    "    return index;    \n",
    "end\n",
    "\n",
    "# check whether element beta is in the vector\n",
    "# the purpose of this function is to make the union between a vector and an integer as efficient as possible\n",
    "# * inputs vector (the vector to be checked) and beta(the element that is searched in the vector)\n",
    "# * output found (a boolean which is true if the element was found and false otherwise)\n",
    "function find_element(vector, beta) \n",
    "    found = false;    \n",
    "    for i in 1:length(vector)    \n",
    "        if(vector[i]==beta)      \n",
    "            found= true;\n",
    "            break;    \n",
    "        end\n",
    "    end\n",
    "    return found;    \n",
    "end\n",
    "\n",
    "# the omp function performs the OMP algorith to find the solution with sparcity S \n",
    "# inputs y (result of the system equation), A (the system matrix) and S (sparcity)\n",
    "# output the solution of x (the input of the system)\n",
    "function omp(y,A,S)\n",
    "    y_res=y;     \n",
    "    T=[0]; \n",
    "    no_cols=length(A[1,:]);\n",
    "    x=zeros(no_cols,1);    \n",
    "    current_column=0; \n",
    "    for i in 1:S\n",
    "        current_column=max_index_finder(A,y_res);# find the column which yields the maximum dot product\n",
    "        if(!find_element(T,current_column)); # the union between an element and a vector is just an append if the element\n",
    "            append!(T,current_column);       # is not in the vector\n",
    "            indices=T[2:length(T)];      \n",
    "            x_buf=pinv(A[:,indices])*y; # select the desired columns and perform the inverse of A   \n",
    "            for j in 2:length(T)\n",
    "                x[T[j]]=x_buf[(j-1),1]; # updated the solution of x\n",
    "            end\n",
    "        end\n",
    "        y_res=y-A*x; #  compute the residue        \n",
    "    end\n",
    "    return x;        \n",
    "end\n",
    "\n",
    "y,A,x,T=sparse_data_gen(7,10,2,0.0); # check the OMP implementation\n",
    "@show x\n",
    "@show x_sol = omp(y,A,4)\n",
    "@show norm(x-x_sol)"
   ]
  },
  {
   "cell_type": "markdown",
   "metadata": {},
   "source": [
    "# SP algorithm implementation"
   ]
  },
  {
   "cell_type": "code",
   "execution_count": 14,
   "metadata": {},
   "outputs": [
    {
     "data": {
      "text/plain": [
       "subspace_pursuit (generic function with 1 method)"
      ]
     },
     "execution_count": 14,
     "metadata": {},
     "output_type": "execute_result"
    }
   ],
   "source": [
    "using Distributions\n",
    "using Random\n",
    "using JLD2\n",
    "\n",
    "function supp_of_H(vector, s) # function that returns the indices of s values with the highest norm\n",
    "      H=[1] \n",
    "      if s > 1 \n",
    "          for i in 2:s \n",
    "              append!(H,i) \n",
    "          end \n",
    "      end \n",
    "      small_vector = vector[1:s] # we assume the first s values in the vector have the highest norm\n",
    "      for i in (s+1):length(vector) # starting from s+1 we check if there is another element with a higher norm\n",
    "          if abs(vector[i]) > minimum(abs.(small_vector)) \n",
    "              H[argmin(abs.(small_vector))] = i # replace the index \n",
    "              small_vector[argmin(abs.(small_vector))] = vector[i] # replace the value \n",
    "          end \n",
    "      end\n",
    "      return H \n",
    "  end\n",
    "function subspace_pursuit(y,A,s)\n",
    "    T = supp_of_H((A')*y,s) # take an initial T set of indices\n",
    "    T = sort(T) \n",
    "    A_T = A[:,T] # generate the sparse matrix A\n",
    "    y_res = y - A_T*pinv(A_T'*A_T)*A_T'*y # calculate the initial y residue\n",
    "    iterations = 0\n",
    "    xl = []\n",
    "    while true\n",
    "        iterations += 1\n",
    "        y_res_last = y_res # store the previous y residue\n",
    "        T_new = supp_of_H((A')*y_res,s) # get another set of s\n",
    "        T_union = union(T,T_new) # combine them to get a set of 2s (expand support)\n",
    "        T_union = sort(T_union)\n",
    "        A_T = A[:,T_union] # generate a 2s sparse matrix A\n",
    "        b = pinv(A_T'*A_T)*A_T'*y # estimate a 2s sparse signal\n",
    "        T = supp_of_H(b,s) # shrink support\n",
    "        T = T[1:s]\n",
    "        T = T_union[T]\n",
    "        A_T = A[:,sort(T)]\n",
    "        xl = pinv(A_T'*A_T)*A_T'*y # estimate s sparse signal\n",
    "        y_res = y - A_T*xl # compute estimation error\n",
    "        if ((abs((norm(y_res_last,2)-norm(y_res,2)))<1e-100)||(norm(y_res,2)==0 || iterations > 100))\n",
    "            break\n",
    "        end\n",
    "    end\n",
    "    x_final=zeros(1,length(A[1,:]))\n",
    "    x_final[1,sort(T)]=xl \n",
    "    return (x_final')\n",
    "end\n",
    "\n"
   ]
  },
  {
   "cell_type": "markdown",
   "metadata": {},
   "source": [
    "and two majorization minimization (MM) algorithms for\n",
    "\n",
    "3. $\\ell_0$ indicator function \n",
    "    $$\n",
    "       \\min~ \\delta \\left( \\| \\bm{x} \\|_0 \\le S \\right) + \\frac{\\alpha}{2} \\| \\bm{y} - \\bm{A} \\bm{x} \\|_2^2\n",
    "    $$\n"
   ]
  },
  {
   "cell_type": "markdown",
   "metadata": {},
   "source": [
    "4. $\\ell_0$ function \n",
    "   $$\n",
    "      \\min~ \\| \\bm{x} \\|_0 + \\frac{\\alpha}{2} \\| \\bm{y} - \\bm{A} \\bm{x} \\|_2^2\n",
    "   $$\n",
    "\n",
    "and test their performance. \n",
    "\n",
    "For MM algorithms, write the closed form solutions of the involved proximal operators, and discuss how the choices of parameters $\\alpha$ and $\\gamma$ affect the performance. \n",
    "\n",
    "**The closed form solutions of the involved proximal operators**\n",
    "\n",
    "\n",
    "\n",
    "The closed form of solution is the prox operation of l0-norm:\n",
    "\n",
    "Hard thresholding function $H_{S}(a)$ :\n",
    "\n",
    "$$\n",
    "H_{S}(\\boldsymbol{a})=\\operatorname{Prox}_{\\delta\\left(\\|\\cdot\\|_{0} \\leq S\\right)}\n",
    "$$\n",
    "Set all but the largest (in magnitude) $S$ elements of $a$ to zero.\n",
    "\n",
    "**Comments: the effects of $\\alpha$ and $\\gamma$**\n",
    "\n",
    "The constant $\\alpha$ is related to the scaling factor, $\\lambda$ : $\\alpha = \\frac{1}{\\lambda}$ . \n",
    "\n",
    "$$\n",
    "       \\min~ \\lambda\\delta \\left( \\| \\bm{x} \\|_0 \\le S \\right) + \\frac{1}{2} \\| \\bm{y} - \\bm{A} \\bm{x} \\|_2^2\n",
    "$$\n",
    "\n",
    "When we do proximal operations , the scaling factor $\\lambda = \\frac{1}{\\alpha}$ can help us to scale threshold values when we don't know the sparsity S. Thus the prox operator of norm_l0 will allow larger values( >> threshold values $\\lambda$ ) to 0.\n",
    "\n",
    "If $\\lambda$ is too large, the hard threshold step (which used prox function) nearly lets all elements to 0.\n",
    "If $\\lambda$ is too small, the hard threshold step (which used prox function) nearly filters no elements and just outputs the same elements again.\n",
    "\n",
    "However, since we already know the region of sparsity S, we just set all but largest magnitudes of values to 0 (prox_indicator_l0_norm). Thus, we get corresponding filtered vectors.\n",
    "\n",
    "The symbol $\\gamma$ is just a small step factor when updating x_next from x_cur.\n",
    "\n",
    "If $\\gamma$ is too large, the forward step (which is used for updating x_axis ) cannot converge.\n",
    "If $\\gamma$ is too small, the forward step increases x slowly, which needs to cost more time to get to the destination.\n",
    "\n",
    "**Recommendations for tests**\n",
    "\n",
    "Set $m = 32,~ n=64$, and let $S$ vary in `4:4:20`. For the numerical tests, we only consider noiseless case, i.e., $\\sigma^2 = 0$. \n",
    "\n",
    "**Remark**\n",
    "1. It is a good practice to modularize your code, for example, have functions dedicated to the involved proximal operators.   \n",
    "2. It will take some time to run tests. Please remember to save your test results in files so that they can be loaded directly from files for marking. "
   ]
  },
  {
   "cell_type": "markdown",
   "metadata": {},
   "source": [
    "## Useful function used in the section below\n",
    "### hard_threshold_s defined below"
   ]
  },
  {
   "cell_type": "code",
   "execution_count": 15,
   "metadata": {},
   "outputs": [
    {
     "data": {
      "text/plain": [
       "hard_threshold_s"
      ]
     },
     "execution_count": 15,
     "metadata": {},
     "output_type": "execute_result"
    }
   ],
   "source": [
    "\"\"\"\n",
    "hard threshold , which equals to prox_indicator(indicator of l0 norm)\n",
    "set all but largest values of vectors to 0.\n",
    "\n",
    "Inputs: \n",
    "a vector, sparsity number s.\n",
    "\n",
    "Outputs:\n",
    "a filtered vector.\n",
    "\"\"\"\n",
    "function hard_threshold_s(vector, s)\n",
    "    #find the first s abs largest elements \n",
    "    index = sortperm(abs.(vector),rev = true)\n",
    "    sparsesupport = vector[index]\n",
    "    max_index = index[1:s]\n",
    "    vector_prox = zeros(size(vector))\n",
    "    s_region = sparsesupport[1:s]\n",
    "    vector_prox[max_index] = s_region \n",
    "    return vector_prox\n",
    "end\n"
   ]
  },
  {
   "cell_type": "markdown",
   "metadata": {},
   "source": [
    "## Two MM functions:\n",
    "### Solution 1.with indicator: MM_L0_indicator\n",
    "### Solution 2.without indicator: MM_L0_without_indicator"
   ]
  },
  {
   "cell_type": "code",
   "execution_count": 16,
   "metadata": {},
   "outputs": [
    {
     "data": {
      "text/plain": [
       "MM_L0_indicator (generic function with 1 method)"
      ]
     },
     "execution_count": 16,
     "metadata": {},
     "output_type": "execute_result"
    }
   ],
   "source": [
    "\"\"\"\n",
    "\n",
    "Basic pricinples of MM :\n",
    "\n",
    "loop:\n",
    "1.Calculate g(xl|xl).  f(xl).\n",
    "2.Update MM functions(xl - γ*transpose(A)*(A*x-y)). (by gradient descent).\n",
    "3.Put MM functions into hard_threshold. x_l+1 = hard_threshold(MM functions).\n",
    "4.Minimize the gap between surrogate function g(x|xl) and object function f(x), until\n",
    "x_next - x_cur is very small or just g(x|xl) - f(x) is small.\n",
    "end loop\n",
    "\n",
    "Inputs:\n",
    "measurement vector y,\n",
    "gaussian matrix A,\n",
    "sparsity S.\n",
    "\n",
    "Outputs:\n",
    "rebuilt signal x_sol,\n",
    "final function value f_val.\n",
    "\"\"\"\n",
    "function MM_L0_without_indicator(y,A,S)\n",
    "\n",
    "    #options\n",
    "    # max_iter is for maximum iteration\n",
    "    max_iter = 10000\n",
    "    criteria = 1e-8\n",
    "    iter = 0\n",
    "\n",
    "    #  0 < γ < 1/(sig(A)).^2\n",
    "    U,Sv,Vt = svd(A)\n",
    "    lamda_max = maximum(Sv)\n",
    "    γ_upper = 1/((lamda_max)^2)\n",
    "\n",
    "    #choose a suitable gamma\n",
    "    γ = γ_upper-0.05\n",
    "\n",
    "    #set gamma and α\n",
    "    α = 1\n",
    "\n",
    "    #a blanket of functions\n",
    "    l0_norm(x) = norm(x,0)\n",
    "    least_squares(x) = (α/2)*(norm(y-A*x)).^2\n",
    "    sur(x,xl) = (1/(2*γ))*(norm(x - (xl + γ*Transpose(A)*(y-A*xl))))^2\n",
    "\n",
    "    #surrogate function\n",
    "    g(x,xl) = l0_norm(x) + sur(x,xl)\n",
    "\n",
    "    #object function\n",
    "    f(x) = l0_norm(x) + least_squares(x)\n",
    "  \n",
    "    #gradient_h\n",
    "    #this gradient_h is used for updating x\n",
    "    grad_h(A,y,x) = transpose(A)*(A*x - y)\n",
    "\n",
    "    #initialization\n",
    "    x_cur = zeros(size(x_origin))\n",
    "    x_next = zeros(size(x_origin));\n",
    "    x_sol = zeros(size(x_cur))\n",
    "\n",
    "    ## main loop\n",
    "    # this loop is for (g - f), to let them gradually equal to each other\n",
    "\n",
    "    while iter < max_iter\n",
    "\n",
    "        #gradient h\n",
    "        #x_next = x_cur - γ*transpose(A)*(A*x-y)\n",
    "        gradient_h = grad_h(A,y,x_cur)\n",
    "\n",
    "        #a forward step, for updating x\n",
    "        r = x_cur - γ * gradient_h\n",
    "        r = reshape(r,n)\n",
    "\n",
    "        #prox_indicator o l0\n",
    "        x_next = hard_threshold_s(r,S)\n",
    "\n",
    "        g_val = g(x_next,x_cur)\n",
    "        f_val = f(x_cur)\n",
    "        error = g_val - f_val\n",
    "        \n",
    "        # when norm < criteria, break\n",
    "\n",
    "            if (norm((x_next-x_cur),2)<criteria)||(norm(error)/norm(f_val)<1e-4)\n",
    "                x_sol = x_next\n",
    "\n",
    "                return x_sol,f_val\n",
    "                break\n",
    "            end\n",
    "\n",
    "        iter = iter + 1\n",
    "        x_cur = x_next\n",
    "    end   \n",
    "\n",
    "end\n",
    "\n",
    "function MM_L0_indicator(y,A,S)\n",
    "\n",
    "    #options\n",
    "    max_iter = 10000\n",
    "    criteria = 1e-8\n",
    "    iter = 0\n",
    "\n",
    "    #  0 < γ < 1/(sig(A)).^2\n",
    "    U,Sv,Vt = svd(A)\n",
    "    lamda_max = maximum(Sv)\n",
    "    γ_upper = 1/((lamda_max)^2)\n",
    "\n",
    "    #choose a suitable gamma \n",
    "    γ = γ_upper-0.05\n",
    "\n",
    "    #set gamma and α\n",
    "    α = 1\n",
    "\n",
    "    #a blanket of functions\n",
    "    indicator(x) = (norm(x,0)<= S) ? 0 : Inf\n",
    "    least_squares(x) = (α/2)*(norm(y-A*x)).^2\n",
    "    sur(x,xl) = (1/(2*γ))*(norm(x - (xl + γ*Transpose(A)*(y-A*xl))))^2\n",
    "\n",
    "    #surrogate function\n",
    "    g(x,xl) = indicator(x) + sur(x,xl)\n",
    "\n",
    "    #object function\n",
    "    f(x) = indicator(x) + least_squares(x)\n",
    "  \n",
    "    #gradient_h\n",
    "    #this gradient_h is used for updating forward step\n",
    "    grad_h(A,y,x) = transpose(A)*(A*x - y)\n",
    "\n",
    "    #initialization\n",
    "    x_cur = zeros(size(x_origin))\n",
    "    x_next = zeros(size(x_origin));\n",
    "    x_sol = zeros(size(x_cur))\n",
    "\n",
    "    ## main loop\n",
    "    # this loop is for (g - f), to let them gradually equal to each other\n",
    "    # max_iter is for maximum iteration\n",
    "    \n",
    "    while iter < max_iter\n",
    "\n",
    "        #gradient h\n",
    "        #x_next = x_cur - γ*transpose(A)*(A*x-y)\n",
    "        gradient_h = grad_h(A,y,x_cur)\n",
    "\n",
    "        # a forward step\n",
    "        r = x_cur - γ * gradient_h\n",
    "        r = reshape(r,n)\n",
    "\n",
    "        #prox_indicator o l0\n",
    "        x_next = hard_threshold_s(r,S)\n",
    "        #x_next = hard_threshold_s(r,S)\n",
    "        g_val = g(x_next,x_cur)\n",
    "        f_val = f(x_cur)\n",
    "        error = g_val - f_val\n",
    "\n",
    "        # when norm of them < criteria, break\n",
    "\n",
    "            if (norm((x_next-x_cur),2)<criteria)||(norm(error)/norm(f_val)<1e-4)\n",
    "                x_sol = x_next\n",
    "                #@show error\n",
    "\n",
    "                return x_sol,f_val\n",
    "                break\n",
    "            end\n",
    "\n",
    "        #iteration number\n",
    "        iter = iter + 1\n",
    "        x_cur = x_next\n",
    "    end   \n",
    "\n",
    "    @show iter\n",
    "\n",
    "end"
   ]
  },
  {
   "cell_type": "code",
   "execution_count": 17,
   "metadata": {},
   "outputs": [
    {
     "name": "stdout",
     "output_type": "stream",
     "text": [
      "sort(Supp_x_sol) = [3, 5, 39, 58]\n",
      "sort(sparseSupport) = [3, 5, 39, 58]\n",
      "x_sol = [0.0, 0.0, 1.0432354353357876, 0.0, 0.30204162361707176, 0.0, 0.0, 0.0, 0.0, 0.0, 0.0, 0.0, 0.0, 0.0, 0.0, 0.0, 0.0, 0.0, 0.0, 0.0, 0.0, 0.0, 0.0, 0.0, 0.0, 0.0, 0.0, 0.0, 0.0, 0.0, 0.0, 0.0, 0.0, 0.0, 0.0, 0.0, 0.0, 0.0, 0.89347953249659, 0.0, 0.0, 0.0, 0.0, 0.0, 0.0, 0.0, 0.0, 0.0, 0.0, 0.0, 0.0, 0.0, 0.0, 0.0, 0.0, 0.0, 0.0, 1.548704410605286, 0.0, 0.0, 0.0, 0.0, 0.0, 0.0]\n",
      "x_origin = [0.0, 0.0, 1.0432354177044365, 0.0, 0.3020416651636412, 0.0, 0.0, 0.0, 0.0, 0.0, 0.0, 0.0, 0.0, 0.0, 0.0, 0.0, 0.0, 0.0, 0.0, 0.0, 0.0, 0.0, 0.0, 0.0, 0.0, 0.0, 0.0, 0.0, 0.0, 0.0, 0.0, 0.0, 0.0, 0.0, 0.0, 0.0, 0.0, 0.0, 0.8934794834665583, 0.0, 0.0, 0.0, 0.0, 0.0, 0.0, 0.0, 0.0, 0.0, 0.0, 0.0, 0.0, 0.0, 0.0, 0.0, 0.0, 0.0, 0.0, 1.5487044440335418, 0.0, 0.0, 0.0, 0.0, 0.0, 0.0]\n",
      "norm(x_origin - x_sol) = 7.455450531562099e-8\n"
     ]
    }
   ],
   "source": [
    "\"\"\"\n",
    "comparison:\n",
    "show x_origin and sparseSupport\n",
    "show x_sol and Supp_x_sol\n",
    "\n",
    "\"\"\"\n",
    "#signal generation\n",
    "m,n,S,σ = 32,64,4,0.0\n",
    "y,A,x_origin,sparseSupport = sparse_data_gen(m,n,S,σ);\n",
    "\n",
    "#for comparison\n",
    "x_sol,val_f = MM_L0_indicator(y,A,S)\n",
    "#x_sol,val_f = MM_L0_without_indicator(y,A,S)\n",
    "Supp_x_sol = supp_of_H(x_sol,S) \n",
    "\n",
    "#original supportset and rebuilt supportset\n",
    "@show sort(Supp_x_sol)\n",
    "@show sort(sparseSupport);\n",
    "\n",
    "#original signal and rebuilt signal\n",
    "@show x_sol;\n",
    "@show x_origin;\n",
    "\n",
    "#error between two signals\n",
    "@show norm(x_origin - x_sol);"
   ]
  },
  {
   "cell_type": "markdown",
   "metadata": {},
   "source": [
    "# Check functions "
   ]
  },
  {
   "cell_type": "code",
   "execution_count": 18,
   "metadata": {},
   "outputs": [
    {
     "data": {
      "text/plain": [
       "4-element Vector{Symbol}:\n",
       " :correct_bit_l0_in\n",
       " :correct_bit_l0_without_in\n",
       " :correct_bit_omp\n",
       " :correct_bit_sp"
      ]
     },
     "execution_count": 18,
     "metadata": {},
     "output_type": "execute_result"
    }
   ],
   "source": [
    "\"\"\"\n",
    "run checks functions can show correct_bit rate for all S =4:4:20\n",
    "every S run 5000 times MM_L0_indicator functions or  MM_L0_ without_indicator functions \n",
    "\"\"\"\n",
    "\n",
    "\n",
    "function check_correct_bit(m,n,σ,total)\n",
    "    \n",
    "    S = collect(4:1:20)\n",
    "    correct_bit_l0_in = zeros(17)\n",
    "    correct_bit_l0_without_in = zeros(17)\n",
    "    correct_bit_omp = zeros(17)\n",
    "    correct_bit_sp = zeros(17)\n",
    "\n",
    "        for j = 1:length(S)\n",
    "            s = S[j]\n",
    "            success_l0 = 0\n",
    "            success_l0_no_in = 0\n",
    "            success_omp = 0\n",
    "            success_sp = 0\n",
    "            for i = 1:total\n",
    "                #signal sparse_sig_generation\n",
    "                y,A,x_origin,sparseSupport = sparse_data_gen(m,n,s,σ)\n",
    "\n",
    "                #two MM algorithms \n",
    "                x_sol_l0_in,f_val = MM_L0_indicator(y,A,s);\n",
    "                Supp_x_sol_l0_in = supp_of_H(x_sol_l0_in,s);\n",
    "\n",
    "                x_sol_without_in,val = MM_L0_without_indicator(y,A,s);\n",
    "                Supp_x_sol_without_in = supp_of_H(x_sol_without_in,s);\n",
    "                    \n",
    "                #OMP algorithms\n",
    "                x_sol_omp = omp(y,A,s);\n",
    "                Supp_x_sol_omp = supp_of_H(x_sol_omp,s);\n",
    "            \n",
    "                #SP algorithms\n",
    "                x_sol_sp=subspace_pursuit(y,A,s)\n",
    "                Supp_x_sol_sp = supp_of_H(x_sol_sp,s);\n",
    "            \n",
    "                #calculate bit errors, \n",
    "                #the conditions looks both for the support of the found solution versus the original one and the norm of\n",
    "                #the difference  \n",
    "                if ((norm(x_origin-x_sol_l0_in) < 0.05))&&(sort(Supp_x_sol_l0_in)==sort(sparseSupport))\n",
    "                           success_l0 += 1\n",
    "                end\n",
    "                if  ((norm(x_origin-x_sol_without_in) < 0.05))&&(sort(Supp_x_sol_without_in)==sort(sparseSupport))\n",
    "                           success_l0_no_in += 1\n",
    "                end\n",
    "                if  ((norm(x_origin-x_sol_omp) < 0.05))&&(sort(Supp_x_sol_omp)==sort(sparseSupport))\n",
    "                           success_omp += 1\n",
    "                end\n",
    "                if  ((norm(x_origin-x_sol_sp) < 0.05))&&(sort(Supp_x_sol_sp)==sort(sparseSupport))\n",
    "                           success_sp += 1\n",
    "                end\n",
    "                \n",
    "            end\n",
    "            correct_bit_l0_in[j] = success_l0/total\n",
    "            correct_bit_l0_without_in[j] = success_l0_no_in/total\n",
    "            correct_bit_omp[j] = success_omp/total\n",
    "            correct_bit_sp[j]=success_sp/total\n",
    "        end\n",
    "        \n",
    "        return correct_bit_l0_in,correct_bit_l0_without_in,correct_bit_omp ,correct_bit_sp\n",
    "end\n",
    "\n",
    "run_check=false  # set as true to run the algorithms or as false to load an already compiled check\n",
    "\n",
    "if(run_check)\n",
    "    m,n,σ = 32,64,0.0 # characteristics of checked matrices \n",
    "    total = 500 # number of iterations of each  \n",
    "    correct_bit_l0_in, correct_bit_l0_without_in,correct_bit_omp ,correct_bit_sp= check_correct_bit(m,n,σ,total)\n",
    "    @save \"check_algorithms.jld2\" correct_bit_l0_in correct_bit_l0_without_in correct_bit_omp correct_bit_sp #overwrite the existing saved values \n",
    "else\n",
    "   @load \"check_algorithms.jld2\" correct_bit_l0_in correct_bit_l0_without_in correct_bit_omp correct_bit_sp  \n",
    "end    \n",
    "    "
   ]
  },
  {
   "cell_type": "markdown",
   "metadata": {},
   "source": [
    "# Plot functions"
   ]
  },
  {
   "cell_type": "code",
   "execution_count": 19,
   "metadata": {},
   "outputs": [
    {
     "data": {
      "image/svg+xml": [
       "<?xml version=\"1.0\" encoding=\"utf-8\"?>\n",
       "<svg xmlns=\"http://www.w3.org/2000/svg\" xmlns:xlink=\"http://www.w3.org/1999/xlink\" width=\"600\" height=\"400\" viewBox=\"0 0 2400 1600\">\n",
       "<defs>\n",
       "  <clipPath id=\"clip840\">\n",
       "    <rect x=\"0\" y=\"0\" width=\"2400\" height=\"1600\"/>\n",
       "  </clipPath>\n",
       "</defs>\n",
       "<path clip-path=\"url(#clip840)\" d=\"\n",
       "M0 1600 L2400 1600 L2400 0 L0 0  Z\n",
       "  \" fill=\"#ffffff\" fill-rule=\"evenodd\" fill-opacity=\"1\"/>\n",
       "<defs>\n",
       "  <clipPath id=\"clip841\">\n",
       "    <rect x=\"480\" y=\"0\" width=\"1681\" height=\"1600\"/>\n",
       "  </clipPath>\n",
       "</defs>\n",
       "<path clip-path=\"url(#clip840)\" d=\"\n",
       "M249.542 1423.18 L2352.76 1423.18 L2352.76 123.472 L249.542 123.472  Z\n",
       "  \" fill=\"#ffffff\" fill-rule=\"evenodd\" fill-opacity=\"1\"/>\n",
       "<defs>\n",
       "  <clipPath id=\"clip842\">\n",
       "    <rect x=\"249\" y=\"123\" width=\"2104\" height=\"1301\"/>\n",
       "  </clipPath>\n",
       "</defs>\n",
       "<polyline clip-path=\"url(#clip842)\" style=\"stroke:#000000; stroke-linecap:butt; stroke-linejoin:round; stroke-width:2; stroke-opacity:0.1; fill:none\" points=\"\n",
       "  249.542,1423.18 249.542,123.472 \n",
       "  \"/>\n",
       "<polyline clip-path=\"url(#clip842)\" style=\"stroke:#000000; stroke-linecap:butt; stroke-linejoin:round; stroke-width:2; stroke-opacity:0.1; fill:none\" points=\"\n",
       "  775.346,1423.18 775.346,123.472 \n",
       "  \"/>\n",
       "<polyline clip-path=\"url(#clip842)\" style=\"stroke:#000000; stroke-linecap:butt; stroke-linejoin:round; stroke-width:2; stroke-opacity:0.1; fill:none\" points=\"\n",
       "  1301.15,1423.18 1301.15,123.472 \n",
       "  \"/>\n",
       "<polyline clip-path=\"url(#clip842)\" style=\"stroke:#000000; stroke-linecap:butt; stroke-linejoin:round; stroke-width:2; stroke-opacity:0.1; fill:none\" points=\"\n",
       "  1826.95,1423.18 1826.95,123.472 \n",
       "  \"/>\n",
       "<polyline clip-path=\"url(#clip842)\" style=\"stroke:#000000; stroke-linecap:butt; stroke-linejoin:round; stroke-width:2; stroke-opacity:0.1; fill:none\" points=\"\n",
       "  2352.76,1423.18 2352.76,123.472 \n",
       "  \"/>\n",
       "<polyline clip-path=\"url(#clip840)\" style=\"stroke:#000000; stroke-linecap:butt; stroke-linejoin:round; stroke-width:4; stroke-opacity:1; fill:none\" points=\"\n",
       "  249.542,1423.18 2352.76,1423.18 \n",
       "  \"/>\n",
       "<polyline clip-path=\"url(#clip840)\" style=\"stroke:#000000; stroke-linecap:butt; stroke-linejoin:round; stroke-width:4; stroke-opacity:1; fill:none\" points=\"\n",
       "  249.542,1423.18 249.542,1404.28 \n",
       "  \"/>\n",
       "<polyline clip-path=\"url(#clip840)\" style=\"stroke:#000000; stroke-linecap:butt; stroke-linejoin:round; stroke-width:4; stroke-opacity:1; fill:none\" points=\"\n",
       "  775.346,1423.18 775.346,1404.28 \n",
       "  \"/>\n",
       "<polyline clip-path=\"url(#clip840)\" style=\"stroke:#000000; stroke-linecap:butt; stroke-linejoin:round; stroke-width:4; stroke-opacity:1; fill:none\" points=\"\n",
       "  1301.15,1423.18 1301.15,1404.28 \n",
       "  \"/>\n",
       "<polyline clip-path=\"url(#clip840)\" style=\"stroke:#000000; stroke-linecap:butt; stroke-linejoin:round; stroke-width:4; stroke-opacity:1; fill:none\" points=\"\n",
       "  1826.95,1423.18 1826.95,1404.28 \n",
       "  \"/>\n",
       "<polyline clip-path=\"url(#clip840)\" style=\"stroke:#000000; stroke-linecap:butt; stroke-linejoin:round; stroke-width:4; stroke-opacity:1; fill:none\" points=\"\n",
       "  2352.76,1423.18 2352.76,1404.28 \n",
       "  \"/>\n",
       "<path clip-path=\"url(#clip840)\" d=\"M249.542 1454.1 Q245.931 1454.1 244.102 1457.66 Q242.297 1461.2 242.297 1468.33 Q242.297 1475.44 244.102 1479.01 Q245.931 1482.55 249.542 1482.55 Q253.176 1482.55 254.982 1479.01 Q256.811 1475.44 256.811 1468.33 Q256.811 1461.2 254.982 1457.66 Q253.176 1454.1 249.542 1454.1 M249.542 1450.39 Q255.352 1450.39 258.408 1455 Q261.486 1459.58 261.486 1468.33 Q261.486 1477.06 258.408 1481.67 Q255.352 1486.25 249.542 1486.25 Q243.732 1486.25 240.653 1481.67 Q237.598 1477.06 237.598 1468.33 Q237.598 1459.58 240.653 1455 Q243.732 1450.39 249.542 1450.39 Z\" fill=\"#000000\" fill-rule=\"evenodd\" fill-opacity=\"1\" /><path clip-path=\"url(#clip840)\" d=\"M765.623 1451.02 L783.98 1451.02 L783.98 1454.96 L769.906 1454.96 L769.906 1463.43 Q770.924 1463.08 771.943 1462.92 Q772.961 1462.73 773.98 1462.73 Q779.767 1462.73 783.146 1465.9 Q786.526 1469.08 786.526 1474.49 Q786.526 1480.07 783.054 1483.17 Q779.582 1486.25 773.262 1486.25 Q771.086 1486.25 768.818 1485.88 Q766.572 1485.51 764.165 1484.77 L764.165 1480.07 Q766.248 1481.2 768.471 1481.76 Q770.693 1482.32 773.17 1482.32 Q777.174 1482.32 779.512 1480.21 Q781.85 1478.1 781.85 1474.49 Q781.85 1470.88 779.512 1468.77 Q777.174 1466.67 773.17 1466.67 Q771.295 1466.67 769.42 1467.08 Q767.568 1467.5 765.623 1468.38 L765.623 1451.02 Z\" fill=\"#000000\" fill-rule=\"evenodd\" fill-opacity=\"1\" /><path clip-path=\"url(#clip840)\" d=\"M1275.84 1481.64 L1283.48 1481.64 L1283.48 1455.28 L1275.17 1456.95 L1275.17 1452.69 L1283.43 1451.02 L1288.11 1451.02 L1288.11 1481.64 L1295.74 1481.64 L1295.74 1485.58 L1275.84 1485.58 L1275.84 1481.64 Z\" fill=\"#000000\" fill-rule=\"evenodd\" fill-opacity=\"1\" /><path clip-path=\"url(#clip840)\" d=\"M1315.19 1454.1 Q1311.58 1454.1 1309.75 1457.66 Q1307.94 1461.2 1307.94 1468.33 Q1307.94 1475.44 1309.75 1479.01 Q1311.58 1482.55 1315.19 1482.55 Q1318.82 1482.55 1320.63 1479.01 Q1322.46 1475.44 1322.46 1468.33 Q1322.46 1461.2 1320.63 1457.66 Q1318.82 1454.1 1315.19 1454.1 M1315.19 1450.39 Q1321 1450.39 1324.05 1455 Q1327.13 1459.58 1327.13 1468.33 Q1327.13 1477.06 1324.05 1481.67 Q1321 1486.25 1315.19 1486.25 Q1309.38 1486.25 1306.3 1481.67 Q1303.24 1477.06 1303.24 1468.33 Q1303.24 1459.58 1306.3 1455 Q1309.38 1450.39 1315.19 1450.39 Z\" fill=\"#000000\" fill-rule=\"evenodd\" fill-opacity=\"1\" /><path clip-path=\"url(#clip840)\" d=\"M1802.14 1481.64 L1809.78 1481.64 L1809.78 1455.28 L1801.47 1456.95 L1801.47 1452.69 L1809.73 1451.02 L1814.41 1451.02 L1814.41 1481.64 L1822.05 1481.64 L1822.05 1485.58 L1802.14 1485.58 L1802.14 1481.64 Z\" fill=\"#000000\" fill-rule=\"evenodd\" fill-opacity=\"1\" /><path clip-path=\"url(#clip840)\" d=\"M1831.54 1451.02 L1849.89 1451.02 L1849.89 1454.96 L1835.82 1454.96 L1835.82 1463.43 Q1836.84 1463.08 1837.86 1462.92 Q1838.87 1462.73 1839.89 1462.73 Q1845.68 1462.73 1849.06 1465.9 Q1852.44 1469.08 1852.44 1474.49 Q1852.44 1480.07 1848.97 1483.17 Q1845.49 1486.25 1839.17 1486.25 Q1837 1486.25 1834.73 1485.88 Q1832.48 1485.51 1830.08 1484.77 L1830.08 1480.07 Q1832.16 1481.2 1834.38 1481.76 Q1836.61 1482.32 1839.08 1482.32 Q1843.09 1482.32 1845.42 1480.21 Q1847.76 1478.1 1847.76 1474.49 Q1847.76 1470.88 1845.42 1468.77 Q1843.09 1466.67 1839.08 1466.67 Q1837.21 1466.67 1835.33 1467.08 Q1833.48 1467.5 1831.54 1468.38 L1831.54 1451.02 Z\" fill=\"#000000\" fill-rule=\"evenodd\" fill-opacity=\"1\" /><path clip-path=\"url(#clip840)\" d=\"M2331.53 1481.64 L2347.85 1481.64 L2347.85 1485.58 L2325.9 1485.58 L2325.9 1481.64 Q2328.57 1478.89 2333.15 1474.26 Q2337.76 1469.61 2338.94 1468.27 Q2341.18 1465.74 2342.06 1464.01 Q2342.96 1462.25 2342.96 1460.56 Q2342.96 1457.8 2341.02 1456.07 Q2339.1 1454.33 2336 1454.33 Q2333.8 1454.33 2331.34 1455.09 Q2328.91 1455.86 2326.14 1457.41 L2326.14 1452.69 Q2328.96 1451.55 2331.41 1450.97 Q2333.87 1450.39 2335.9 1450.39 Q2341.27 1450.39 2344.47 1453.08 Q2347.66 1455.77 2347.66 1460.26 Q2347.66 1462.39 2346.85 1464.31 Q2346.07 1466.2 2343.96 1468.8 Q2343.38 1469.47 2340.28 1472.69 Q2337.18 1475.88 2331.53 1481.64 Z\" fill=\"#000000\" fill-rule=\"evenodd\" fill-opacity=\"1\" /><path clip-path=\"url(#clip840)\" d=\"M2367.66 1454.1 Q2364.05 1454.1 2362.22 1457.66 Q2360.42 1461.2 2360.42 1468.33 Q2360.42 1475.44 2362.22 1479.01 Q2364.05 1482.55 2367.66 1482.55 Q2371.3 1482.55 2373.1 1479.01 Q2374.93 1475.44 2374.93 1468.33 Q2374.93 1461.2 2373.1 1457.66 Q2371.3 1454.1 2367.66 1454.1 M2367.66 1450.39 Q2373.47 1450.39 2376.53 1455 Q2379.61 1459.58 2379.61 1468.33 Q2379.61 1477.06 2376.53 1481.67 Q2373.47 1486.25 2367.66 1486.25 Q2361.85 1486.25 2358.77 1481.67 Q2355.72 1477.06 2355.72 1468.33 Q2355.72 1459.58 2358.77 1455 Q2361.85 1450.39 2367.66 1450.39 Z\" fill=\"#000000\" fill-rule=\"evenodd\" fill-opacity=\"1\" /><path clip-path=\"url(#clip840)\" d=\"M1171.8 1522.08 L1171.8 1528.35 Q1168.14 1526.6 1164.89 1525.74 Q1161.64 1524.88 1158.62 1524.88 Q1153.37 1524.88 1150.5 1526.92 Q1147.67 1528.96 1147.67 1532.71 Q1147.67 1535.87 1149.55 1537.49 Q1151.46 1539.08 1156.74 1540.07 L1160.63 1540.86 Q1167.82 1542.23 1171.22 1545.7 Q1174.66 1549.14 1174.66 1554.93 Q1174.66 1561.84 1170.02 1565.4 Q1165.4 1568.97 1156.46 1568.97 Q1153.08 1568.97 1149.26 1568.2 Q1145.48 1567.44 1141.4 1565.94 L1141.4 1559.32 Q1145.32 1561.52 1149.07 1562.63 Q1152.83 1563.75 1156.46 1563.75 Q1161.96 1563.75 1164.95 1561.58 Q1167.95 1559.42 1167.95 1555.41 Q1167.95 1551.91 1165.78 1549.93 Q1163.65 1547.96 1158.75 1546.97 L1154.83 1546.21 Q1147.64 1544.78 1144.43 1541.72 Q1141.21 1538.67 1141.21 1533.22 Q1141.21 1526.92 1145.63 1523.29 Q1150.09 1519.66 1157.89 1519.66 Q1161.23 1519.66 1164.7 1520.27 Q1168.17 1520.87 1171.8 1522.08 Z\" fill=\"#000000\" fill-rule=\"evenodd\" fill-opacity=\"1\" /><path clip-path=\"url(#clip840)\" d=\"M1190.1 1562.7 L1190.1 1581.6 L1184.21 1581.6 L1184.21 1532.4 L1190.1 1532.4 L1190.1 1537.81 Q1191.95 1534.62 1194.75 1533.1 Q1197.58 1531.54 1201.49 1531.54 Q1207.99 1531.54 1212.03 1536.69 Q1216.1 1541.85 1216.1 1550.25 Q1216.1 1558.65 1212.03 1563.81 Q1207.99 1568.97 1201.49 1568.97 Q1197.58 1568.97 1194.75 1567.44 Q1191.95 1565.88 1190.1 1562.7 M1210.02 1550.25 Q1210.02 1543.79 1207.35 1540.13 Q1204.71 1536.44 1200.06 1536.44 Q1195.41 1536.44 1192.74 1540.13 Q1190.1 1543.79 1190.1 1550.25 Q1190.1 1556.71 1192.74 1560.4 Q1195.41 1564.07 1200.06 1564.07 Q1204.71 1564.07 1207.35 1560.4 Q1210.02 1556.71 1210.02 1550.25 Z\" fill=\"#000000\" fill-rule=\"evenodd\" fill-opacity=\"1\" /><path clip-path=\"url(#clip840)\" d=\"M1242.01 1550.12 Q1234.91 1550.12 1232.18 1551.75 Q1229.44 1553.37 1229.44 1557.29 Q1229.44 1560.4 1231.48 1562.25 Q1233.55 1564.07 1237.08 1564.07 Q1241.95 1564.07 1244.88 1560.63 Q1247.84 1557.16 1247.84 1551.43 L1247.84 1550.12 L1242.01 1550.12 M1253.69 1547.71 L1253.69 1568.04 L1247.84 1568.04 L1247.84 1562.63 Q1245.83 1565.88 1242.84 1567.44 Q1239.85 1568.97 1235.52 1568.97 Q1230.04 1568.97 1226.8 1565.91 Q1223.58 1562.82 1223.58 1557.67 Q1223.58 1551.65 1227.59 1548.6 Q1231.64 1545.54 1239.62 1545.54 L1247.84 1545.54 L1247.84 1544.97 Q1247.84 1540.93 1245.16 1538.73 Q1242.52 1536.5 1237.71 1536.5 Q1234.66 1536.5 1231.76 1537.23 Q1228.87 1537.97 1226.19 1539.43 L1226.19 1534.02 Q1229.41 1532.78 1232.43 1532.17 Q1235.45 1531.54 1238.32 1531.54 Q1246.05 1531.54 1249.87 1535.55 Q1253.69 1539.56 1253.69 1547.71 Z\" fill=\"#000000\" fill-rule=\"evenodd\" fill-opacity=\"1\" /><path clip-path=\"url(#clip840)\" d=\"M1286.41 1537.87 Q1285.43 1537.3 1284.25 1537.04 Q1283.1 1536.76 1281.7 1536.76 Q1276.74 1536.76 1274.06 1540 Q1271.42 1543.22 1271.42 1549.27 L1271.42 1568.04 L1265.53 1568.04 L1265.53 1532.4 L1271.42 1532.4 L1271.42 1537.93 Q1273.27 1534.69 1276.23 1533.13 Q1279.19 1531.54 1283.42 1531.54 Q1284.03 1531.54 1284.76 1531.63 Q1285.49 1531.7 1286.38 1531.85 L1286.41 1537.87 Z\" fill=\"#000000\" fill-rule=\"evenodd\" fill-opacity=\"1\" /><path clip-path=\"url(#clip840)\" d=\"M1315.28 1533.45 L1315.28 1538.98 Q1312.8 1537.71 1310.12 1537.07 Q1307.45 1536.44 1304.59 1536.44 Q1300.23 1536.44 1298.03 1537.77 Q1295.87 1539.11 1295.87 1541.79 Q1295.87 1543.82 1297.43 1545 Q1298.98 1546.15 1303.7 1547.2 L1305.7 1547.64 Q1311.94 1548.98 1314.55 1551.43 Q1317.19 1553.85 1317.19 1558.21 Q1317.19 1563.17 1313.24 1566.07 Q1309.33 1568.97 1302.45 1568.97 Q1299.59 1568.97 1296.47 1568.39 Q1293.38 1567.85 1289.95 1566.74 L1289.95 1560.69 Q1293.19 1562.38 1296.34 1563.24 Q1299.49 1564.07 1302.58 1564.07 Q1306.72 1564.07 1308.95 1562.66 Q1311.17 1561.23 1311.17 1558.65 Q1311.17 1556.27 1309.55 1554.99 Q1307.96 1553.72 1302.52 1552.54 L1300.48 1552.07 Q1295.04 1550.92 1292.62 1548.56 Q1290.2 1546.18 1290.2 1542.04 Q1290.2 1537.01 1293.76 1534.27 Q1297.33 1531.54 1303.89 1531.54 Q1307.13 1531.54 1310 1532.01 Q1312.86 1532.49 1315.28 1533.45 Z\" fill=\"#000000\" fill-rule=\"evenodd\" fill-opacity=\"1\" /><path clip-path=\"url(#clip840)\" d=\"M1326.52 1532.4 L1332.37 1532.4 L1332.37 1568.04 L1326.52 1568.04 L1326.52 1532.4 M1326.52 1518.52 L1332.37 1518.52 L1332.37 1525.93 L1326.52 1525.93 L1326.52 1518.52 Z\" fill=\"#000000\" fill-rule=\"evenodd\" fill-opacity=\"1\" /><path clip-path=\"url(#clip840)\" d=\"M1350.42 1522.27 L1350.42 1532.4 L1362.48 1532.4 L1362.48 1536.95 L1350.42 1536.95 L1350.42 1556.3 Q1350.42 1560.66 1351.6 1561.9 Q1352.81 1563.14 1356.47 1563.14 L1362.48 1563.14 L1362.48 1568.04 L1356.47 1568.04 Q1349.69 1568.04 1347.11 1565.53 Q1344.53 1562.98 1344.53 1556.3 L1344.53 1536.95 L1340.23 1536.95 L1340.23 1532.4 L1344.53 1532.4 L1344.53 1522.27 L1350.42 1522.27 Z\" fill=\"#000000\" fill-rule=\"evenodd\" fill-opacity=\"1\" /><path clip-path=\"url(#clip840)\" d=\"M1385.02 1571.35 Q1382.53 1577.72 1380.18 1579.66 Q1377.82 1581.6 1373.88 1581.6 L1369.2 1581.6 L1369.2 1576.7 L1372.64 1576.7 Q1375.05 1576.7 1376.39 1575.56 Q1377.73 1574.41 1379.35 1570.14 L1380.4 1567.47 L1365.98 1532.4 L1372.19 1532.4 L1383.33 1560.28 L1394.47 1532.4 L1400.68 1532.4 L1385.02 1571.35 Z\" fill=\"#000000\" fill-rule=\"evenodd\" fill-opacity=\"1\" /><path clip-path=\"url(#clip840)\" d=\"M1458.22 1522.08 L1458.22 1528.35 Q1454.56 1526.6 1451.32 1525.74 Q1448.07 1524.88 1445.05 1524.88 Q1439.79 1524.88 1436.93 1526.92 Q1434.1 1528.96 1434.1 1532.71 Q1434.1 1535.87 1435.97 1537.49 Q1437.88 1539.08 1443.17 1540.07 L1447.05 1540.86 Q1454.24 1542.23 1457.65 1545.7 Q1461.09 1549.14 1461.09 1554.93 Q1461.09 1561.84 1456.44 1565.4 Q1451.83 1568.97 1442.88 1568.97 Q1439.51 1568.97 1435.69 1568.2 Q1431.9 1567.44 1427.83 1565.94 L1427.83 1559.32 Q1431.74 1561.52 1435.5 1562.63 Q1439.25 1563.75 1442.88 1563.75 Q1448.39 1563.75 1451.38 1561.58 Q1454.37 1559.42 1454.37 1555.41 Q1454.37 1551.91 1452.21 1549.93 Q1450.07 1547.96 1445.17 1546.97 L1441.26 1546.21 Q1434.06 1544.78 1430.85 1541.72 Q1427.64 1538.67 1427.64 1533.22 Q1427.64 1526.92 1432.06 1523.29 Q1436.52 1519.66 1444.31 1519.66 Q1447.66 1519.66 1451.13 1520.27 Q1454.59 1520.87 1458.22 1522.08 Z\" fill=\"#000000\" fill-rule=\"evenodd\" fill-opacity=\"1\" /><polyline clip-path=\"url(#clip842)\" style=\"stroke:#000000; stroke-linecap:butt; stroke-linejoin:round; stroke-width:2; stroke-opacity:0.1; fill:none\" points=\"\n",
       "  249.542,1386.4 2352.76,1386.4 \n",
       "  \"/>\n",
       "<polyline clip-path=\"url(#clip842)\" style=\"stroke:#000000; stroke-linecap:butt; stroke-linejoin:round; stroke-width:2; stroke-opacity:0.1; fill:none\" points=\"\n",
       "  249.542,1079.86 2352.76,1079.86 \n",
       "  \"/>\n",
       "<polyline clip-path=\"url(#clip842)\" style=\"stroke:#000000; stroke-linecap:butt; stroke-linejoin:round; stroke-width:2; stroke-opacity:0.1; fill:none\" points=\"\n",
       "  249.542,773.326 2352.76,773.326 \n",
       "  \"/>\n",
       "<polyline clip-path=\"url(#clip842)\" style=\"stroke:#000000; stroke-linecap:butt; stroke-linejoin:round; stroke-width:2; stroke-opacity:0.1; fill:none\" points=\"\n",
       "  249.542,466.791 2352.76,466.791 \n",
       "  \"/>\n",
       "<polyline clip-path=\"url(#clip842)\" style=\"stroke:#000000; stroke-linecap:butt; stroke-linejoin:round; stroke-width:2; stroke-opacity:0.1; fill:none\" points=\"\n",
       "  249.542,160.256 2352.76,160.256 \n",
       "  \"/>\n",
       "<polyline clip-path=\"url(#clip840)\" style=\"stroke:#000000; stroke-linecap:butt; stroke-linejoin:round; stroke-width:4; stroke-opacity:1; fill:none\" points=\"\n",
       "  249.542,1423.18 249.542,123.472 \n",
       "  \"/>\n",
       "<polyline clip-path=\"url(#clip840)\" style=\"stroke:#000000; stroke-linecap:butt; stroke-linejoin:round; stroke-width:4; stroke-opacity:1; fill:none\" points=\"\n",
       "  249.542,1386.4 268.44,1386.4 \n",
       "  \"/>\n",
       "<polyline clip-path=\"url(#clip840)\" style=\"stroke:#000000; stroke-linecap:butt; stroke-linejoin:round; stroke-width:4; stroke-opacity:1; fill:none\" points=\"\n",
       "  249.542,1079.86 268.44,1079.86 \n",
       "  \"/>\n",
       "<polyline clip-path=\"url(#clip840)\" style=\"stroke:#000000; stroke-linecap:butt; stroke-linejoin:round; stroke-width:4; stroke-opacity:1; fill:none\" points=\"\n",
       "  249.542,773.326 268.44,773.326 \n",
       "  \"/>\n",
       "<polyline clip-path=\"url(#clip840)\" style=\"stroke:#000000; stroke-linecap:butt; stroke-linejoin:round; stroke-width:4; stroke-opacity:1; fill:none\" points=\"\n",
       "  249.542,466.791 268.44,466.791 \n",
       "  \"/>\n",
       "<polyline clip-path=\"url(#clip840)\" style=\"stroke:#000000; stroke-linecap:butt; stroke-linejoin:round; stroke-width:4; stroke-opacity:1; fill:none\" points=\"\n",
       "  249.542,160.256 268.44,160.256 \n",
       "  \"/>\n",
       "<path clip-path=\"url(#clip840)\" d=\"M126.205 1372.19 Q122.593 1372.19 120.765 1375.76 Q118.959 1379.3 118.959 1386.43 Q118.959 1393.54 120.765 1397.1 Q122.593 1400.64 126.205 1400.64 Q129.839 1400.64 131.644 1397.1 Q133.473 1393.54 133.473 1386.43 Q133.473 1379.3 131.644 1375.76 Q129.839 1372.19 126.205 1372.19 M126.205 1368.49 Q132.015 1368.49 135.07 1373.1 Q138.149 1377.68 138.149 1386.43 Q138.149 1395.16 135.07 1399.76 Q132.015 1404.35 126.205 1404.35 Q120.394 1404.35 117.316 1399.76 Q114.26 1395.16 114.26 1386.43 Q114.26 1377.68 117.316 1373.1 Q120.394 1368.49 126.205 1368.49 Z\" fill=\"#000000\" fill-rule=\"evenodd\" fill-opacity=\"1\" /><path clip-path=\"url(#clip840)\" d=\"M146.366 1397.8 L151.251 1397.8 L151.251 1403.68 L146.366 1403.68 L146.366 1397.8 Z\" fill=\"#000000\" fill-rule=\"evenodd\" fill-opacity=\"1\" /><path clip-path=\"url(#clip840)\" d=\"M171.436 1372.19 Q167.825 1372.19 165.996 1375.76 Q164.19 1379.3 164.19 1386.43 Q164.19 1393.54 165.996 1397.1 Q167.825 1400.64 171.436 1400.64 Q175.07 1400.64 176.876 1397.1 Q178.704 1393.54 178.704 1386.43 Q178.704 1379.3 176.876 1375.76 Q175.07 1372.19 171.436 1372.19 M171.436 1368.49 Q177.246 1368.49 180.301 1373.1 Q183.38 1377.68 183.38 1386.43 Q183.38 1395.16 180.301 1399.76 Q177.246 1404.35 171.436 1404.35 Q165.626 1404.35 162.547 1399.76 Q159.491 1395.16 159.491 1386.43 Q159.491 1377.68 162.547 1373.1 Q165.626 1368.49 171.436 1368.49 Z\" fill=\"#000000\" fill-rule=\"evenodd\" fill-opacity=\"1\" /><path clip-path=\"url(#clip840)\" d=\"M201.598 1372.19 Q197.987 1372.19 196.158 1375.76 Q194.352 1379.3 194.352 1386.43 Q194.352 1393.54 196.158 1397.1 Q197.987 1400.64 201.598 1400.64 Q205.232 1400.64 207.037 1397.1 Q208.866 1393.54 208.866 1386.43 Q208.866 1379.3 207.037 1375.76 Q205.232 1372.19 201.598 1372.19 M201.598 1368.49 Q207.408 1368.49 210.463 1373.1 Q213.542 1377.68 213.542 1386.43 Q213.542 1395.16 210.463 1399.76 Q207.408 1404.35 201.598 1404.35 Q195.787 1404.35 192.709 1399.76 Q189.653 1395.16 189.653 1386.43 Q189.653 1377.68 192.709 1373.1 Q195.787 1368.49 201.598 1368.49 Z\" fill=\"#000000\" fill-rule=\"evenodd\" fill-opacity=\"1\" /><path clip-path=\"url(#clip840)\" d=\"M127.2 1065.66 Q123.589 1065.66 121.76 1069.22 Q119.955 1072.77 119.955 1079.9 Q119.955 1087 121.76 1090.57 Q123.589 1094.11 127.2 1094.11 Q130.834 1094.11 132.64 1090.57 Q134.468 1087 134.468 1079.9 Q134.468 1072.77 132.64 1069.22 Q130.834 1065.66 127.2 1065.66 M127.2 1061.96 Q133.01 1061.96 136.066 1066.56 Q139.144 1071.15 139.144 1079.9 Q139.144 1088.62 136.066 1093.23 Q133.01 1097.81 127.2 1097.81 Q121.39 1097.81 118.311 1093.23 Q115.256 1088.62 115.256 1079.9 Q115.256 1071.15 118.311 1066.56 Q121.39 1061.96 127.2 1061.96 Z\" fill=\"#000000\" fill-rule=\"evenodd\" fill-opacity=\"1\" /><path clip-path=\"url(#clip840)\" d=\"M147.362 1091.26 L152.246 1091.26 L152.246 1097.14 L147.362 1097.14 L147.362 1091.26 Z\" fill=\"#000000\" fill-rule=\"evenodd\" fill-opacity=\"1\" /><path clip-path=\"url(#clip840)\" d=\"M166.459 1093.21 L182.778 1093.21 L182.778 1097.14 L160.834 1097.14 L160.834 1093.21 Q163.496 1090.45 168.079 1085.82 Q172.686 1081.17 173.866 1079.83 Q176.112 1077.3 176.991 1075.57 Q177.894 1073.81 177.894 1072.12 Q177.894 1069.36 175.95 1067.63 Q174.028 1065.89 170.927 1065.89 Q168.727 1065.89 166.274 1066.65 Q163.843 1067.42 161.065 1068.97 L161.065 1064.25 Q163.89 1063.11 166.343 1062.53 Q168.797 1061.96 170.834 1061.96 Q176.204 1061.96 179.399 1064.64 Q182.593 1067.33 182.593 1071.82 Q182.593 1073.95 181.783 1075.87 Q180.996 1077.77 178.889 1080.36 Q178.311 1081.03 175.209 1084.25 Q172.107 1087.44 166.459 1093.21 Z\" fill=\"#000000\" fill-rule=\"evenodd\" fill-opacity=\"1\" /><path clip-path=\"url(#clip840)\" d=\"M192.639 1062.58 L210.996 1062.58 L210.996 1066.52 L196.922 1066.52 L196.922 1074.99 Q197.94 1074.64 198.959 1074.48 Q199.977 1074.29 200.996 1074.29 Q206.783 1074.29 210.162 1077.47 Q213.542 1080.64 213.542 1086.05 Q213.542 1091.63 210.07 1094.73 Q206.598 1097.81 200.278 1097.81 Q198.102 1097.81 195.834 1097.44 Q193.588 1097.07 191.181 1096.33 L191.181 1091.63 Q193.264 1092.77 195.487 1093.32 Q197.709 1093.88 200.186 1093.88 Q204.19 1093.88 206.528 1091.77 Q208.866 1089.66 208.866 1086.05 Q208.866 1082.44 206.528 1080.34 Q204.19 1078.23 200.186 1078.23 Q198.311 1078.23 196.436 1078.65 Q194.584 1079.06 192.639 1079.94 L192.639 1062.58 Z\" fill=\"#000000\" fill-rule=\"evenodd\" fill-opacity=\"1\" /><path clip-path=\"url(#clip840)\" d=\"M126.205 759.125 Q122.593 759.125 120.765 762.689 Q118.959 766.231 118.959 773.361 Q118.959 780.467 120.765 784.032 Q122.593 787.574 126.205 787.574 Q129.839 787.574 131.644 784.032 Q133.473 780.467 133.473 773.361 Q133.473 766.231 131.644 762.689 Q129.839 759.125 126.205 759.125 M126.205 755.421 Q132.015 755.421 135.07 760.027 Q138.149 764.611 138.149 773.361 Q138.149 782.088 135.07 786.694 Q132.015 791.277 126.205 791.277 Q120.394 791.277 117.316 786.694 Q114.26 782.088 114.26 773.361 Q114.26 764.611 117.316 760.027 Q120.394 755.421 126.205 755.421 Z\" fill=\"#000000\" fill-rule=\"evenodd\" fill-opacity=\"1\" /><path clip-path=\"url(#clip840)\" d=\"M146.366 784.726 L151.251 784.726 L151.251 790.606 L146.366 790.606 L146.366 784.726 Z\" fill=\"#000000\" fill-rule=\"evenodd\" fill-opacity=\"1\" /><path clip-path=\"url(#clip840)\" d=\"M161.482 756.046 L179.839 756.046 L179.839 759.981 L165.765 759.981 L165.765 768.453 Q166.783 768.106 167.802 767.944 Q168.82 767.759 169.839 767.759 Q175.626 767.759 179.005 770.93 Q182.385 774.101 182.385 779.518 Q182.385 785.097 178.913 788.199 Q175.44 791.277 169.121 791.277 Q166.945 791.277 164.677 790.907 Q162.431 790.537 160.024 789.796 L160.024 785.097 Q162.107 786.231 164.329 786.787 Q166.552 787.342 169.028 787.342 Q173.033 787.342 175.371 785.236 Q177.709 783.129 177.709 779.518 Q177.709 775.907 175.371 773.801 Q173.033 771.694 169.028 771.694 Q167.153 771.694 165.278 772.111 Q163.427 772.527 161.482 773.407 L161.482 756.046 Z\" fill=\"#000000\" fill-rule=\"evenodd\" fill-opacity=\"1\" /><path clip-path=\"url(#clip840)\" d=\"M201.598 759.125 Q197.987 759.125 196.158 762.689 Q194.352 766.231 194.352 773.361 Q194.352 780.467 196.158 784.032 Q197.987 787.574 201.598 787.574 Q205.232 787.574 207.037 784.032 Q208.866 780.467 208.866 773.361 Q208.866 766.231 207.037 762.689 Q205.232 759.125 201.598 759.125 M201.598 755.421 Q207.408 755.421 210.463 760.027 Q213.542 764.611 213.542 773.361 Q213.542 782.088 210.463 786.694 Q207.408 791.277 201.598 791.277 Q195.787 791.277 192.709 786.694 Q189.653 782.088 189.653 773.361 Q189.653 764.611 192.709 760.027 Q195.787 755.421 201.598 755.421 Z\" fill=\"#000000\" fill-rule=\"evenodd\" fill-opacity=\"1\" /><path clip-path=\"url(#clip840)\" d=\"M127.2 452.59 Q123.589 452.59 121.76 456.155 Q119.955 459.696 119.955 466.826 Q119.955 473.932 121.76 477.497 Q123.589 481.039 127.2 481.039 Q130.834 481.039 132.64 477.497 Q134.468 473.932 134.468 466.826 Q134.468 459.696 132.64 456.155 Q130.834 452.59 127.2 452.59 M127.2 448.886 Q133.01 448.886 136.066 453.493 Q139.144 458.076 139.144 466.826 Q139.144 475.553 136.066 480.159 Q133.01 484.742 127.2 484.742 Q121.39 484.742 118.311 480.159 Q115.256 475.553 115.256 466.826 Q115.256 458.076 118.311 453.493 Q121.39 448.886 127.2 448.886 Z\" fill=\"#000000\" fill-rule=\"evenodd\" fill-opacity=\"1\" /><path clip-path=\"url(#clip840)\" d=\"M147.362 478.192 L152.246 478.192 L152.246 484.071 L147.362 484.071 L147.362 478.192 Z\" fill=\"#000000\" fill-rule=\"evenodd\" fill-opacity=\"1\" /><path clip-path=\"url(#clip840)\" d=\"M161.251 449.511 L183.473 449.511 L183.473 451.502 L170.927 484.071 L166.042 484.071 L177.848 453.446 L161.251 453.446 L161.251 449.511 Z\" fill=\"#000000\" fill-rule=\"evenodd\" fill-opacity=\"1\" /><path clip-path=\"url(#clip840)\" d=\"M192.639 449.511 L210.996 449.511 L210.996 453.446 L196.922 453.446 L196.922 461.918 Q197.94 461.571 198.959 461.409 Q199.977 461.224 200.996 461.224 Q206.783 461.224 210.162 464.395 Q213.542 467.567 213.542 472.983 Q213.542 478.562 210.07 481.664 Q206.598 484.742 200.278 484.742 Q198.102 484.742 195.834 484.372 Q193.588 484.002 191.181 483.261 L191.181 478.562 Q193.264 479.696 195.487 480.252 Q197.709 480.807 200.186 480.807 Q204.19 480.807 206.528 478.701 Q208.866 476.594 208.866 472.983 Q208.866 469.372 206.528 467.266 Q204.19 465.159 200.186 465.159 Q198.311 465.159 196.436 465.576 Q194.584 465.993 192.639 466.872 L192.639 449.511 Z\" fill=\"#000000\" fill-rule=\"evenodd\" fill-opacity=\"1\" /><path clip-path=\"url(#clip840)\" d=\"M117.015 173.601 L124.654 173.601 L124.654 147.236 L116.343 148.902 L116.343 144.643 L124.607 142.976 L129.283 142.976 L129.283 173.601 L136.922 173.601 L136.922 177.536 L117.015 177.536 L117.015 173.601 Z\" fill=\"#000000\" fill-rule=\"evenodd\" fill-opacity=\"1\" /><path clip-path=\"url(#clip840)\" d=\"M146.366 171.657 L151.251 171.657 L151.251 177.536 L146.366 177.536 L146.366 171.657 Z\" fill=\"#000000\" fill-rule=\"evenodd\" fill-opacity=\"1\" /><path clip-path=\"url(#clip840)\" d=\"M171.436 146.055 Q167.825 146.055 165.996 149.62 Q164.19 153.161 164.19 160.291 Q164.19 167.397 165.996 170.962 Q167.825 174.504 171.436 174.504 Q175.07 174.504 176.876 170.962 Q178.704 167.397 178.704 160.291 Q178.704 153.161 176.876 149.62 Q175.07 146.055 171.436 146.055 M171.436 142.351 Q177.246 142.351 180.301 146.958 Q183.38 151.541 183.38 160.291 Q183.38 169.018 180.301 173.624 Q177.246 178.208 171.436 178.208 Q165.626 178.208 162.547 173.624 Q159.491 169.018 159.491 160.291 Q159.491 151.541 162.547 146.958 Q165.626 142.351 171.436 142.351 Z\" fill=\"#000000\" fill-rule=\"evenodd\" fill-opacity=\"1\" /><path clip-path=\"url(#clip840)\" d=\"M201.598 146.055 Q197.987 146.055 196.158 149.62 Q194.352 153.161 194.352 160.291 Q194.352 167.397 196.158 170.962 Q197.987 174.504 201.598 174.504 Q205.232 174.504 207.037 170.962 Q208.866 167.397 208.866 160.291 Q208.866 153.161 207.037 149.62 Q205.232 146.055 201.598 146.055 M201.598 142.351 Q207.408 142.351 210.463 146.958 Q213.542 151.541 213.542 160.291 Q213.542 169.018 210.463 173.624 Q207.408 178.208 201.598 178.208 Q195.787 178.208 192.709 173.624 Q189.653 169.018 189.653 160.291 Q189.653 151.541 192.709 146.958 Q195.787 142.351 201.598 142.351 Z\" fill=\"#000000\" fill-rule=\"evenodd\" fill-opacity=\"1\" /><path clip-path=\"url(#clip840)\" d=\"M22.818 1023.8 L46.4666 1032.52 L46.4666 1015.05 L22.818 1023.8 M16.4842 1027.43 L16.4842 1020.14 L64.0042 1002.03 L64.0042 1008.71 L51.8138 1013.04 L51.8138 1034.46 L64.0042 1038.79 L64.0042 1045.57 L16.4842 1027.43 Z\" fill=\"#000000\" fill-rule=\"evenodd\" fill-opacity=\"1\" /><path clip-path=\"url(#clip840)\" d=\"M28.3562 1003.37 L28.3562 997.16 L58.275 986.02 L28.3562 974.88 L28.3562 968.674 L64.0042 982.042 L64.0042 989.999 L28.3562 1003.37 Z\" fill=\"#000000\" fill-rule=\"evenodd\" fill-opacity=\"1\" /><path clip-path=\"url(#clip840)\" d=\"M33.8307 939.932 Q33.2578 940.919 33.0032 942.097 Q32.7167 943.243 32.7167 944.643 Q32.7167 949.608 35.9632 952.282 Q39.1779 954.924 45.2253 954.924 L64.0042 954.924 L64.0042 960.812 L28.3562 960.812 L28.3562 954.924 L33.8944 954.924 Q30.6479 953.078 29.0883 950.118 Q27.4968 947.158 27.4968 942.924 Q27.4968 942.32 27.5923 941.588 Q27.656 940.855 27.8151 939.964 L33.8307 939.932 Z\" fill=\"#000000\" fill-rule=\"evenodd\" fill-opacity=\"1\" /><path clip-path=\"url(#clip840)\" d=\"M45.7664 911.478 Q39.4007 911.478 35.8996 914.12 Q32.3984 916.729 32.3984 921.472 Q32.3984 926.183 35.8996 928.824 Q39.4007 931.434 45.7664 931.434 Q52.1003 931.434 55.6014 928.824 Q59.1026 926.183 59.1026 921.472 Q59.1026 916.729 55.6014 914.12 Q52.1003 911.478 45.7664 911.478 M59.58 905.621 Q68.683 905.621 73.1071 909.664 Q77.5631 913.706 77.5631 922.045 Q77.5631 925.132 77.0857 927.869 Q76.6401 930.607 75.6852 933.185 L69.9879 933.185 Q71.3884 930.607 72.0568 928.092 Q72.7252 925.578 72.7252 922.968 Q72.7252 917.207 69.7015 914.342 Q66.7096 911.478 60.6303 911.478 L57.7339 911.478 Q60.885 913.292 62.4446 916.125 Q64.0042 918.957 64.0042 922.904 Q64.0042 929.461 59.0071 933.471 Q54.01 937.482 45.7664 937.482 Q37.491 937.482 32.4939 933.471 Q27.4968 929.461 27.4968 922.904 Q27.4968 918.957 29.0564 916.125 Q30.616 913.292 33.7671 911.478 L28.3562 911.478 L28.3562 905.621 L59.58 905.621 Z\" fill=\"#000000\" fill-rule=\"evenodd\" fill-opacity=\"1\" /><path clip-path=\"url(#clip840)\" d=\"M29.7248 847.184 L35.1993 847.184 Q33.8307 849.667 33.1623 852.181 Q32.4621 854.664 32.4621 857.21 Q32.4621 862.907 36.0905 866.058 Q39.6872 869.209 46.212 869.209 Q52.7369 869.209 56.3653 866.058 Q59.9619 862.907 59.9619 857.21 Q59.9619 854.664 59.2935 852.181 Q58.5933 849.667 57.2247 847.184 L62.6355 847.184 Q63.7814 849.635 64.3543 852.277 Q64.9272 854.887 64.9272 857.847 Q64.9272 865.899 59.8664 870.642 Q54.8057 875.384 46.212 875.384 Q37.491 875.384 32.4939 870.61 Q27.4968 865.804 27.4968 857.465 Q27.4968 854.759 28.0697 852.181 Q28.6108 849.603 29.7248 847.184 Z\" fill=\"#000000\" fill-rule=\"evenodd\" fill-opacity=\"1\" /><path clip-path=\"url(#clip840)\" d=\"M32.4621 823.185 Q32.4621 827.896 36.1542 830.633 Q39.8145 833.371 46.212 833.371 Q52.6095 833.371 56.3017 830.665 Q59.9619 827.928 59.9619 823.185 Q59.9619 818.507 56.2698 815.769 Q52.5777 813.032 46.212 813.032 Q39.8781 813.032 36.186 815.769 Q32.4621 818.507 32.4621 823.185 M27.4968 823.185 Q27.4968 815.547 32.4621 811.186 Q37.4273 806.826 46.212 806.826 Q54.9649 806.826 59.9619 811.186 Q64.9272 815.547 64.9272 823.185 Q64.9272 830.856 59.9619 835.217 Q54.9649 839.545 46.212 839.545 Q37.4273 839.545 32.4621 835.217 Q27.4968 830.856 27.4968 823.185 Z\" fill=\"#000000\" fill-rule=\"evenodd\" fill-opacity=\"1\" /><path clip-path=\"url(#clip840)\" d=\"M33.8307 776.461 Q33.2578 777.448 33.0032 778.625 Q32.7167 779.771 32.7167 781.172 Q32.7167 786.137 35.9632 788.811 Q39.1779 791.452 45.2253 791.452 L64.0042 791.452 L64.0042 797.341 L28.3562 797.341 L28.3562 791.452 L33.8944 791.452 Q30.6479 789.606 29.0883 786.646 Q27.4968 783.686 27.4968 779.453 Q27.4968 778.848 27.5923 778.116 Q27.656 777.384 27.8151 776.493 L33.8307 776.461 Z\" fill=\"#000000\" fill-rule=\"evenodd\" fill-opacity=\"1\" /><path clip-path=\"url(#clip840)\" d=\"M33.8307 750.807 Q33.2578 751.794 33.0032 752.972 Q32.7167 754.117 32.7167 755.518 Q32.7167 760.483 35.9632 763.157 Q39.1779 765.799 45.2253 765.799 L64.0042 765.799 L64.0042 771.687 L28.3562 771.687 L28.3562 765.799 L33.8944 765.799 Q30.6479 763.952 29.0883 760.992 Q27.4968 758.032 27.4968 753.799 Q27.4968 753.194 27.5923 752.462 Q27.656 751.73 27.8151 750.839 L33.8307 750.807 Z\" fill=\"#000000\" fill-rule=\"evenodd\" fill-opacity=\"1\" /><path clip-path=\"url(#clip840)\" d=\"M44.7161 715.605 L47.5806 715.605 L47.5806 742.532 Q53.6281 742.15 56.8109 738.903 Q59.9619 735.625 59.9619 729.8 Q59.9619 726.427 59.1344 723.276 Q58.3069 720.093 56.6518 716.974 L62.1899 716.974 Q63.5267 720.125 64.227 723.435 Q64.9272 726.745 64.9272 730.151 Q64.9272 738.681 59.9619 743.678 Q54.9967 748.643 46.5303 748.643 Q37.7774 748.643 32.6531 743.932 Q27.4968 739.19 27.4968 731.169 Q27.4968 723.976 32.1438 719.806 Q36.7589 715.605 44.7161 715.605 M42.9973 721.461 Q38.1912 721.525 35.3266 724.167 Q32.4621 726.777 32.4621 731.105 Q32.4621 736.007 35.2312 738.967 Q38.0002 741.895 43.0292 742.341 L42.9973 721.461 Z\" fill=\"#000000\" fill-rule=\"evenodd\" fill-opacity=\"1\" /><path clip-path=\"url(#clip840)\" d=\"M29.7248 680.339 L35.1993 680.339 Q33.8307 682.822 33.1623 685.336 Q32.4621 687.819 32.4621 690.365 Q32.4621 696.062 36.0905 699.213 Q39.6872 702.364 46.212 702.364 Q52.7369 702.364 56.3653 699.213 Q59.9619 696.062 59.9619 690.365 Q59.9619 687.819 59.2935 685.336 Q58.5933 682.822 57.2247 680.339 L62.6355 680.339 Q63.7814 682.79 64.3543 685.431 Q64.9272 688.041 64.9272 691.001 Q64.9272 699.054 59.8664 703.797 Q54.8057 708.539 46.212 708.539 Q37.491 708.539 32.4939 703.765 Q27.4968 698.959 27.4968 690.62 Q27.4968 687.914 28.0697 685.336 Q28.6108 682.758 29.7248 680.339 Z\" fill=\"#000000\" fill-rule=\"evenodd\" fill-opacity=\"1\" /><path clip-path=\"url(#clip840)\" d=\"M18.2347 664.361 L28.3562 664.361 L28.3562 652.298 L32.9077 652.298 L32.9077 664.361 L52.2594 664.361 Q56.6199 664.361 57.8613 663.183 Q59.1026 661.974 59.1026 658.314 L59.1026 652.298 L64.0042 652.298 L64.0042 658.314 Q64.0042 665.093 61.4897 667.671 Q58.9434 670.249 52.2594 670.249 L32.9077 670.249 L32.9077 674.546 L28.3562 674.546 L28.3562 670.249 L18.2347 670.249 L18.2347 664.361 Z\" fill=\"#000000\" fill-rule=\"evenodd\" fill-opacity=\"1\" /><path clip-path=\"url(#clip840)\" d=\"M33.8307 603.218 Q33.2578 604.205 33.0032 605.383 Q32.7167 606.529 32.7167 607.929 Q32.7167 612.894 35.9632 615.568 Q39.1779 618.21 45.2253 618.21 L64.0042 618.21 L64.0042 624.098 L28.3562 624.098 L28.3562 618.21 L33.8944 618.21 Q30.6479 616.364 29.0883 613.404 Q27.4968 610.443 27.4968 606.21 Q27.4968 605.606 27.5923 604.873 Q27.656 604.141 27.8151 603.25 L33.8307 603.218 Z\" fill=\"#000000\" fill-rule=\"evenodd\" fill-opacity=\"1\" /><path clip-path=\"url(#clip840)\" d=\"M46.0847 580.875 Q46.0847 587.973 47.7079 590.71 Q49.3312 593.447 53.2461 593.447 Q56.3653 593.447 58.2114 591.41 Q60.0256 589.341 60.0256 585.808 Q60.0256 580.938 56.5881 578.01 Q53.1188 575.05 47.3897 575.05 L46.0847 575.05 L46.0847 580.875 M43.6657 569.194 L64.0042 569.194 L64.0042 575.05 L58.5933 575.05 Q61.8398 577.055 63.3994 580.047 Q64.9272 583.039 64.9272 587.368 Q64.9272 592.842 61.8716 596.089 Q58.7843 599.303 53.6281 599.303 Q47.6125 599.303 44.5569 595.293 Q41.5014 591.251 41.5014 583.262 L41.5014 575.05 L40.9285 575.05 Q36.8862 575.05 34.6901 577.724 Q32.4621 580.366 32.4621 585.172 Q32.4621 588.227 33.1941 591.124 Q33.9262 594.02 35.3903 596.694 L29.9795 596.694 Q28.7381 593.479 28.1334 590.455 Q27.4968 587.431 27.4968 584.567 Q27.4968 576.833 31.5072 573.013 Q35.5176 569.194 43.6657 569.194 Z\" fill=\"#000000\" fill-rule=\"evenodd\" fill-opacity=\"1\" /><path clip-path=\"url(#clip840)\" d=\"M18.2347 551.338 L28.3562 551.338 L28.3562 539.275 L32.9077 539.275 L32.9077 551.338 L52.2594 551.338 Q56.6199 551.338 57.8613 550.16 Q59.1026 548.951 59.1026 545.29 L59.1026 539.275 L64.0042 539.275 L64.0042 545.29 Q64.0042 552.07 61.4897 554.648 Q58.9434 557.226 52.2594 557.226 L32.9077 557.226 L32.9077 561.523 L28.3562 561.523 L28.3562 557.226 L18.2347 557.226 L18.2347 551.338 Z\" fill=\"#000000\" fill-rule=\"evenodd\" fill-opacity=\"1\" /><path clip-path=\"url(#clip840)\" d=\"M44.7161 501.081 L47.5806 501.081 L47.5806 528.008 Q53.6281 527.626 56.8109 524.379 Q59.9619 521.101 59.9619 515.276 Q59.9619 511.902 59.1344 508.751 Q58.3069 505.568 56.6518 502.449 L62.1899 502.449 Q63.5267 505.6 64.227 508.91 Q64.9272 512.221 64.9272 515.626 Q64.9272 524.156 59.9619 529.153 Q54.9967 534.119 46.5303 534.119 Q37.7774 534.119 32.6531 529.408 Q27.4968 524.666 27.4968 516.645 Q27.4968 509.452 32.1438 505.282 Q36.7589 501.081 44.7161 501.081 M42.9973 506.937 Q38.1912 507.001 35.3266 509.643 Q32.4621 512.252 32.4621 516.581 Q32.4621 521.483 35.2312 524.443 Q38.0002 527.371 43.0292 527.817 L42.9973 506.937 Z\" fill=\"#000000\" fill-rule=\"evenodd\" fill-opacity=\"1\" /><path clip-path=\"url(#clip840)\" d=\"M817.755 16.7545 L817.755 25.383 Q813.623 21.5346 808.924 19.6307 Q804.265 17.7268 798.999 17.7268 Q788.629 17.7268 783.119 24.0867 Q777.61 30.4061 777.61 42.3968 Q777.61 54.3469 783.119 60.7069 Q788.629 67.0263 798.999 67.0263 Q804.265 67.0263 808.924 65.1223 Q813.623 63.2184 817.755 59.3701 L817.755 67.9175 Q813.461 70.8341 808.64 72.2924 Q803.86 73.7508 798.513 73.7508 Q784.78 73.7508 776.881 65.3654 Q768.982 56.9395 768.982 42.3968 Q768.982 27.8135 776.881 19.4281 Q784.78 11.0023 798.513 11.0023 Q803.941 11.0023 808.721 12.4606 Q813.542 13.8784 817.755 16.7545 Z\" fill=\"#000000\" fill-rule=\"evenodd\" fill-opacity=\"1\" /><path clip-path=\"url(#clip840)\" d=\"M847.65 32.4315 Q841.655 32.4315 838.171 37.1306 Q834.687 41.7891 834.687 49.9314 Q834.687 58.0738 838.131 62.7728 Q841.614 67.4314 847.65 67.4314 Q853.605 67.4314 857.089 62.7323 Q860.573 58.0333 860.573 49.9314 Q860.573 41.8701 857.089 37.1711 Q853.605 32.4315 847.65 32.4315 M847.65 26.1121 Q857.372 26.1121 862.922 32.4315 Q868.472 38.7509 868.472 49.9314 Q868.472 61.0714 862.922 67.4314 Q857.372 73.7508 847.65 73.7508 Q837.888 73.7508 832.338 67.4314 Q826.829 61.0714 826.829 49.9314 Q826.829 38.7509 832.338 32.4315 Q837.888 26.1121 847.65 26.1121 Z\" fill=\"#000000\" fill-rule=\"evenodd\" fill-opacity=\"1\" /><path clip-path=\"url(#clip840)\" d=\"M916.151 35.9153 Q918.946 30.8922 922.835 28.5022 Q926.724 26.1121 931.99 26.1121 Q939.079 26.1121 942.928 31.0947 Q946.776 36.0368 946.776 45.1919 L946.776 72.576 L939.282 72.576 L939.282 45.4349 Q939.282 38.913 936.973 35.7533 Q934.664 32.5936 929.924 32.5936 Q924.131 32.5936 920.769 36.4419 Q917.407 40.2903 917.407 46.9338 L917.407 72.576 L909.913 72.576 L909.913 45.4349 Q909.913 38.8725 907.604 35.7533 Q905.295 32.5936 900.474 32.5936 Q894.762 32.5936 891.4 36.4824 Q888.038 40.3308 888.038 46.9338 L888.038 72.576 L880.544 72.576 L880.544 27.2059 L888.038 27.2059 L888.038 34.2544 Q890.59 30.082 894.155 28.0971 Q897.719 26.1121 902.621 26.1121 Q907.563 26.1121 911.006 28.6237 Q914.49 31.1352 916.151 35.9153 Z\" fill=\"#000000\" fill-rule=\"evenodd\" fill-opacity=\"1\" /><path clip-path=\"url(#clip840)\" d=\"M968.853 65.7705 L968.853 89.8329 L961.359 89.8329 L961.359 27.2059 L968.853 27.2059 L968.853 34.0924 Q971.203 30.0415 974.768 28.0971 Q978.373 26.1121 983.356 26.1121 Q991.619 26.1121 996.764 32.6746 Q1001.95 39.2371 1001.95 49.9314 Q1001.95 60.6258 996.764 67.1883 Q991.619 73.7508 983.356 73.7508 Q978.373 73.7508 974.768 71.8063 Q971.203 69.8214 968.853 65.7705 M994.212 49.9314 Q994.212 41.7081 990.809 37.0496 Q987.447 32.3505 981.533 32.3505 Q975.618 32.3505 972.216 37.0496 Q968.853 41.7081 968.853 49.9314 Q968.853 58.1548 972.216 62.8538 Q975.618 67.5124 981.533 67.5124 Q987.447 67.5124 990.809 62.8538 Q994.212 58.1548 994.212 49.9314 Z\" fill=\"#000000\" fill-rule=\"evenodd\" fill-opacity=\"1\" /><path clip-path=\"url(#clip840)\" d=\"M1034.92 49.7694 Q1025.89 49.7694 1022.41 51.8354 Q1018.92 53.9013 1018.92 58.8839 Q1018.92 62.8538 1021.52 65.2034 Q1024.15 67.5124 1028.64 67.5124 Q1034.84 67.5124 1038.57 63.1374 Q1042.34 58.7219 1042.34 51.4303 L1042.34 49.7694 L1034.92 49.7694 M1049.79 46.6907 L1049.79 72.576 L1042.34 72.576 L1042.34 65.6895 Q1039.78 69.8214 1035.98 71.8063 Q1032.17 73.7508 1026.66 73.7508 Q1019.69 73.7508 1015.56 69.8619 Q1011.47 65.9325 1011.47 59.3701 Q1011.47 51.7138 1016.57 47.825 Q1021.72 43.9361 1031.89 43.9361 L1042.34 43.9361 L1042.34 43.2069 Q1042.34 38.0623 1038.93 35.2672 Q1035.57 32.4315 1029.45 32.4315 Q1025.57 32.4315 1021.88 33.3632 Q1018.19 34.295 1014.79 36.1584 L1014.79 29.2718 Q1018.88 27.692 1022.73 26.9223 Q1026.58 26.1121 1030.22 26.1121 Q1040.07 26.1121 1044.93 31.2163 Q1049.79 36.3204 1049.79 46.6907 Z\" fill=\"#000000\" fill-rule=\"evenodd\" fill-opacity=\"1\" /><path clip-path=\"url(#clip840)\" d=\"M1091.43 34.1734 Q1090.18 33.4443 1088.68 33.1202 Q1087.22 32.7556 1085.44 32.7556 Q1079.12 32.7556 1075.72 36.8875 Q1072.35 40.9789 1072.35 48.6757 L1072.35 72.576 L1064.86 72.576 L1064.86 27.2059 L1072.35 27.2059 L1072.35 34.2544 Q1074.7 30.1225 1078.47 28.1376 Q1082.24 26.1121 1087.63 26.1121 Q1088.4 26.1121 1089.33 26.2337 Q1090.26 26.3147 1091.39 26.5172 L1091.43 34.1734 Z\" fill=\"#000000\" fill-rule=\"evenodd\" fill-opacity=\"1\" /><path clip-path=\"url(#clip840)\" d=\"M1099.25 27.2059 L1106.71 27.2059 L1106.71 72.576 L1099.25 72.576 L1099.25 27.2059 M1099.25 9.54393 L1106.71 9.54393 L1106.71 18.9825 L1099.25 18.9825 L1099.25 9.54393 Z\" fill=\"#000000\" fill-rule=\"evenodd\" fill-opacity=\"1\" /><path clip-path=\"url(#clip840)\" d=\"M1151.23 28.5427 L1151.23 35.5912 Q1148.07 33.9709 1144.66 33.1607 Q1141.26 32.3505 1137.61 32.3505 Q1132.06 32.3505 1129.27 34.0519 Q1126.51 35.7533 1126.51 39.156 Q1126.51 41.7486 1128.5 43.2475 Q1130.48 44.7058 1136.48 46.0426 L1139.03 46.6097 Q1146.97 48.3111 1150.29 51.4303 Q1153.66 54.509 1153.66 60.0587 Q1153.66 66.3781 1148.63 70.0644 Q1143.65 73.7508 1134.9 73.7508 Q1131.25 73.7508 1127.28 73.0216 Q1123.35 72.3329 1118.98 70.9151 L1118.98 63.2184 Q1123.11 65.3654 1127.12 66.4591 Q1131.13 67.5124 1135.06 67.5124 Q1140.33 67.5124 1143.16 65.73 Q1146 63.9071 1146 60.6258 Q1146 57.5877 1143.93 55.9673 Q1141.91 54.3469 1134.98 52.8481 L1132.39 52.2405 Q1125.46 50.7821 1122.38 47.7845 Q1119.3 44.7463 1119.3 39.4801 Q1119.3 33.0797 1123.84 29.5959 Q1128.38 26.1121 1136.72 26.1121 Q1140.85 26.1121 1144.5 26.7198 Q1148.15 27.3274 1151.23 28.5427 Z\" fill=\"#000000\" fill-rule=\"evenodd\" fill-opacity=\"1\" /><path clip-path=\"url(#clip840)\" d=\"M1183.11 32.4315 Q1177.11 32.4315 1173.63 37.1306 Q1170.14 41.7891 1170.14 49.9314 Q1170.14 58.0738 1173.59 62.7728 Q1177.07 67.4314 1183.11 67.4314 Q1189.06 67.4314 1192.54 62.7323 Q1196.03 58.0333 1196.03 49.9314 Q1196.03 41.8701 1192.54 37.1711 Q1189.06 32.4315 1183.11 32.4315 M1183.11 26.1121 Q1192.83 26.1121 1198.38 32.4315 Q1203.93 38.7509 1203.93 49.9314 Q1203.93 61.0714 1198.38 67.4314 Q1192.83 73.7508 1183.11 73.7508 Q1173.34 73.7508 1167.79 67.4314 Q1162.28 61.0714 1162.28 49.9314 Q1162.28 38.7509 1167.79 32.4315 Q1173.34 26.1121 1183.11 26.1121 Z\" fill=\"#000000\" fill-rule=\"evenodd\" fill-opacity=\"1\" /><path clip-path=\"url(#clip840)\" d=\"M1254 45.1919 L1254 72.576 L1246.54 72.576 L1246.54 45.4349 Q1246.54 38.994 1244.03 35.7938 Q1241.52 32.5936 1236.5 32.5936 Q1230.46 32.5936 1226.98 36.4419 Q1223.49 40.2903 1223.49 46.9338 L1223.49 72.576 L1216 72.576 L1216 27.2059 L1223.49 27.2059 L1223.49 34.2544 Q1226.17 30.163 1229.77 28.1376 Q1233.42 26.1121 1238.16 26.1121 Q1245.98 26.1121 1249.99 30.9732 Q1254 35.7938 1254 45.1919 Z\" fill=\"#000000\" fill-rule=\"evenodd\" fill-opacity=\"1\" /><path clip-path=\"url(#clip840)\" d=\"M1312.82 32.4315 Q1306.82 32.4315 1303.34 37.1306 Q1299.85 41.7891 1299.85 49.9314 Q1299.85 58.0738 1303.3 62.7728 Q1306.78 67.4314 1312.82 67.4314 Q1318.77 67.4314 1322.25 62.7323 Q1325.74 58.0333 1325.74 49.9314 Q1325.74 41.8701 1322.25 37.1711 Q1318.77 32.4315 1312.82 32.4315 M1312.82 26.1121 Q1322.54 26.1121 1328.09 32.4315 Q1333.64 38.7509 1333.64 49.9314 Q1333.64 61.0714 1328.09 67.4314 Q1322.54 73.7508 1312.82 73.7508 Q1303.05 73.7508 1297.5 67.4314 Q1291.99 61.0714 1291.99 49.9314 Q1291.99 38.7509 1297.5 32.4315 Q1303.05 26.1121 1312.82 26.1121 Z\" fill=\"#000000\" fill-rule=\"evenodd\" fill-opacity=\"1\" /><path clip-path=\"url(#clip840)\" d=\"M1368.96 9.54393 L1368.96 15.7418 L1361.83 15.7418 Q1357.82 15.7418 1356.24 17.3622 Q1354.7 18.9825 1354.7 23.1955 L1354.7 27.2059 L1366.98 27.2059 L1366.98 32.9987 L1354.7 32.9987 L1354.7 72.576 L1347.21 72.576 L1347.21 32.9987 L1340.08 32.9987 L1340.08 27.2059 L1347.21 27.2059 L1347.21 24.0462 Q1347.21 16.471 1350.73 13.0277 Q1354.26 9.54393 1361.91 9.54393 L1368.96 9.54393 Z\" fill=\"#000000\" fill-rule=\"evenodd\" fill-opacity=\"1\" /><path clip-path=\"url(#clip840)\" d=\"M1422.19 49.7694 Q1413.16 49.7694 1409.67 51.8354 Q1406.19 53.9013 1406.19 58.8839 Q1406.19 62.8538 1408.78 65.2034 Q1411.41 67.5124 1415.91 67.5124 Q1422.11 67.5124 1425.84 63.1374 Q1429.6 58.7219 1429.6 51.4303 L1429.6 49.7694 L1422.19 49.7694 M1437.06 46.6907 L1437.06 72.576 L1429.6 72.576 L1429.6 65.6895 Q1427.05 69.8214 1423.24 71.8063 Q1419.44 73.7508 1413.93 73.7508 Q1406.96 73.7508 1402.83 69.8619 Q1398.74 65.9325 1398.74 59.3701 Q1398.74 51.7138 1403.84 47.825 Q1408.98 43.9361 1419.15 43.9361 L1429.6 43.9361 L1429.6 43.2069 Q1429.6 38.0623 1426.2 35.2672 Q1422.84 32.4315 1416.72 32.4315 Q1412.83 32.4315 1409.15 33.3632 Q1405.46 34.295 1402.06 36.1584 L1402.06 29.2718 Q1406.15 27.692 1410 26.9223 Q1413.85 26.1121 1417.49 26.1121 Q1427.33 26.1121 1432.2 31.2163 Q1437.06 36.3204 1437.06 46.6907 Z\" fill=\"#000000\" fill-rule=\"evenodd\" fill-opacity=\"1\" /><path clip-path=\"url(#clip840)\" d=\"M1452.41 9.54393 L1459.86 9.54393 L1459.86 72.576 L1452.41 72.576 L1452.41 9.54393 Z\" fill=\"#000000\" fill-rule=\"evenodd\" fill-opacity=\"1\" /><path clip-path=\"url(#clip840)\" d=\"M1505.31 49.3643 Q1505.31 41.2625 1501.95 36.8065 Q1498.63 32.3505 1492.59 32.3505 Q1486.6 32.3505 1483.24 36.8065 Q1479.92 41.2625 1479.92 49.3643 Q1479.92 57.4256 1483.24 61.8816 Q1486.6 66.3376 1492.59 66.3376 Q1498.63 66.3376 1501.95 61.8816 Q1505.31 57.4256 1505.31 49.3643 M1512.77 66.9452 Q1512.77 78.5308 1507.62 84.1616 Q1502.48 89.8329 1491.87 89.8329 Q1487.94 89.8329 1484.45 89.2252 Q1480.97 88.6581 1477.69 87.4428 L1477.69 80.1917 Q1480.97 81.9741 1484.17 82.8248 Q1487.37 83.6755 1490.69 83.6755 Q1498.02 83.6755 1501.67 79.8271 Q1505.31 76.0193 1505.31 68.282 L1505.31 64.5957 Q1503.01 68.6061 1499.4 70.5911 Q1495.79 72.576 1490.77 72.576 Q1482.43 72.576 1477.32 66.2161 Q1472.22 59.8562 1472.22 49.3643 Q1472.22 38.832 1477.32 32.472 Q1482.43 26.1121 1490.77 26.1121 Q1495.79 26.1121 1499.4 28.0971 Q1503.01 30.082 1505.31 34.0924 L1505.31 27.2059 L1512.77 27.2059 L1512.77 66.9452 Z\" fill=\"#000000\" fill-rule=\"evenodd\" fill-opacity=\"1\" /><path clip-path=\"url(#clip840)\" d=\"M1545.7 32.4315 Q1539.71 32.4315 1536.22 37.1306 Q1532.74 41.7891 1532.74 49.9314 Q1532.74 58.0738 1536.18 62.7728 Q1539.67 67.4314 1545.7 67.4314 Q1551.66 67.4314 1555.14 62.7323 Q1558.62 58.0333 1558.62 49.9314 Q1558.62 41.8701 1555.14 37.1711 Q1551.66 32.4315 1545.7 32.4315 M1545.7 26.1121 Q1555.42 26.1121 1560.97 32.4315 Q1566.52 38.7509 1566.52 49.9314 Q1566.52 61.0714 1560.97 67.4314 Q1555.42 73.7508 1545.7 73.7508 Q1535.94 73.7508 1530.39 67.4314 Q1524.88 61.0714 1524.88 49.9314 Q1524.88 38.7509 1530.39 32.4315 Q1535.94 26.1121 1545.7 26.1121 Z\" fill=\"#000000\" fill-rule=\"evenodd\" fill-opacity=\"1\" /><path clip-path=\"url(#clip840)\" d=\"M1605.17 34.1734 Q1603.91 33.4443 1602.41 33.1202 Q1600.96 32.7556 1599.17 32.7556 Q1592.85 32.7556 1589.45 36.8875 Q1586.09 40.9789 1586.09 48.6757 L1586.09 72.576 L1578.6 72.576 L1578.6 27.2059 L1586.09 27.2059 L1586.09 34.2544 Q1588.44 30.1225 1592.21 28.1376 Q1595.97 26.1121 1601.36 26.1121 Q1602.13 26.1121 1603.06 26.2337 Q1603.99 26.3147 1605.13 26.5172 L1605.17 34.1734 Z\" fill=\"#000000\" fill-rule=\"evenodd\" fill-opacity=\"1\" /><path clip-path=\"url(#clip840)\" d=\"M1612.99 27.2059 L1620.44 27.2059 L1620.44 72.576 L1612.99 72.576 L1612.99 27.2059 M1612.99 9.54393 L1620.44 9.54393 L1620.44 18.9825 L1612.99 18.9825 L1612.99 9.54393 Z\" fill=\"#000000\" fill-rule=\"evenodd\" fill-opacity=\"1\" /><path clip-path=\"url(#clip840)\" d=\"M1643.41 14.324 L1643.41 27.2059 L1658.76 27.2059 L1658.76 32.9987 L1643.41 32.9987 L1643.41 57.6282 Q1643.41 63.1779 1644.91 64.7578 Q1646.45 66.3376 1651.11 66.3376 L1658.76 66.3376 L1658.76 72.576 L1651.11 72.576 Q1642.48 72.576 1639.2 69.3758 Q1635.92 66.1351 1635.92 57.6282 L1635.92 32.9987 L1630.45 32.9987 L1630.45 27.2059 L1635.92 27.2059 L1635.92 14.324 L1643.41 14.324 Z\" fill=\"#000000\" fill-rule=\"evenodd\" fill-opacity=\"1\" /><path clip-path=\"url(#clip840)\" d=\"M1706.28 45.1919 L1706.28 72.576 L1698.83 72.576 L1698.83 45.4349 Q1698.83 38.994 1696.31 35.7938 Q1693.8 32.5936 1688.78 32.5936 Q1682.74 32.5936 1679.26 36.4419 Q1675.78 40.2903 1675.78 46.9338 L1675.78 72.576 L1668.28 72.576 L1668.28 9.54393 L1675.78 9.54393 L1675.78 34.2544 Q1678.45 30.163 1682.06 28.1376 Q1685.7 26.1121 1690.44 26.1121 Q1698.26 26.1121 1702.27 30.9732 Q1706.28 35.7938 1706.28 45.1919 Z\" fill=\"#000000\" fill-rule=\"evenodd\" fill-opacity=\"1\" /><path clip-path=\"url(#clip840)\" d=\"M1756.47 35.9153 Q1759.27 30.8922 1763.15 28.5022 Q1767.04 26.1121 1772.31 26.1121 Q1779.4 26.1121 1783.25 31.0947 Q1787.1 36.0368 1787.1 45.1919 L1787.1 72.576 L1779.6 72.576 L1779.6 45.4349 Q1779.6 38.913 1777.29 35.7533 Q1774.98 32.5936 1770.24 32.5936 Q1764.45 32.5936 1761.09 36.4419 Q1757.73 40.2903 1757.73 46.9338 L1757.73 72.576 L1750.23 72.576 L1750.23 45.4349 Q1750.23 38.8725 1747.92 35.7533 Q1745.61 32.5936 1740.79 32.5936 Q1735.08 32.5936 1731.72 36.4824 Q1728.36 40.3308 1728.36 46.9338 L1728.36 72.576 L1720.86 72.576 L1720.86 27.2059 L1728.36 27.2059 L1728.36 34.2544 Q1730.91 30.082 1734.47 28.0971 Q1738.04 26.1121 1742.94 26.1121 Q1747.88 26.1121 1751.33 28.6237 Q1754.81 31.1352 1756.47 35.9153 Z\" fill=\"#000000\" fill-rule=\"evenodd\" fill-opacity=\"1\" /><path clip-path=\"url(#clip840)\" d=\"M1830.89 28.5427 L1830.89 35.5912 Q1827.73 33.9709 1824.32 33.1607 Q1820.92 32.3505 1817.27 32.3505 Q1811.72 32.3505 1808.93 34.0519 Q1806.18 35.7533 1806.18 39.156 Q1806.18 41.7486 1808.16 43.2475 Q1810.15 44.7058 1816.14 46.0426 L1818.69 46.6097 Q1826.63 48.3111 1829.95 51.4303 Q1833.32 54.509 1833.32 60.0587 Q1833.32 66.3781 1828.29 70.0644 Q1823.31 73.7508 1814.56 73.7508 Q1810.91 73.7508 1806.94 73.0216 Q1803.02 72.3329 1798.64 70.9151 L1798.64 63.2184 Q1802.77 65.3654 1806.78 66.4591 Q1810.79 67.5124 1814.72 67.5124 Q1819.99 67.5124 1822.82 65.73 Q1825.66 63.9071 1825.66 60.6258 Q1825.66 57.5877 1823.59 55.9673 Q1821.57 54.3469 1814.64 52.8481 L1812.05 52.2405 Q1805.12 50.7821 1802.04 47.7845 Q1798.96 44.7463 1798.96 39.4801 Q1798.96 33.0797 1803.5 29.5959 Q1808.04 26.1121 1816.38 26.1121 Q1820.52 26.1121 1824.16 26.7198 Q1827.81 27.3274 1830.89 28.5427 Z\" fill=\"#000000\" fill-rule=\"evenodd\" fill-opacity=\"1\" /><polyline clip-path=\"url(#clip842)\" style=\"stroke:#009af9; stroke-linecap:butt; stroke-linejoin:round; stroke-width:4; stroke-opacity:1; fill:none\" points=\"\n",
       "  670.185,861.608 775.346,1018.55 880.506,1052.89 985.667,1136.26 1090.83,1160.79 1195.99,1217.19 1301.15,1249.07 1406.31,1280.95 1511.47,1325.09 1616.63,1339.8 \n",
       "  1721.79,1369.23 1826.95,1366.78 1932.11,1379.04 2037.27,1381.49 2142.43,1383.94 2247.6,1386.4 2352.76,1386.4 \n",
       "  \"/>\n",
       "<polyline clip-path=\"url(#clip842)\" style=\"stroke:#e26f46; stroke-linecap:butt; stroke-linejoin:round; stroke-width:4; stroke-opacity:1; fill:none\" points=\"\n",
       "  670.185,915.558 775.346,1128.91 880.506,1227 985.667,1332.45 1090.83,1366.78 1195.99,1386.4 1301.15,1383.94 1406.31,1383.94 1511.47,1386.4 1616.63,1386.4 \n",
       "  1721.79,1386.4 1826.95,1386.4 1932.11,1386.4 2037.27,1386.4 2142.43,1386.4 2247.6,1386.4 2352.76,1386.4 \n",
       "  \"/>\n",
       "<polyline clip-path=\"url(#clip842)\" style=\"stroke:#3da44d; stroke-linecap:butt; stroke-linejoin:round; stroke-width:4; stroke-opacity:1; fill:none\" points=\"\n",
       "  670.185,174.97 775.346,177.422 880.506,224.016 985.667,275.513 1090.83,309.845 1195.99,466.791 1301.15,491.314 1406.31,648.26 1511.47,785.587 1616.63,959.699 \n",
       "  1721.79,1052.89 1826.95,1150.98 1932.11,1236.81 2037.27,1310.38 2142.43,1344.71 2247.6,1369.23 2352.76,1379.04 \n",
       "  \"/>\n",
       "<polyline clip-path=\"url(#clip842)\" style=\"stroke:#c271d2; stroke-linecap:butt; stroke-linejoin:round; stroke-width:4; stroke-opacity:1; fill:none\" points=\"\n",
       "  670.185,160.256 775.346,160.256 880.506,170.065 985.667,187.231 1090.83,189.684 1195.99,258.347 1301.15,322.107 1406.31,344.177 1511.47,464.339 1616.63,555.073 \n",
       "  1721.79,680.139 1826.95,748.803 1932.11,871.417 2037.27,1234.35 2142.43,1379.04 2247.6,1386.4 2352.76,1386.4 \n",
       "  \"/>\n",
       "<path clip-path=\"url(#clip840)\" d=\"\n",
       "M1457.23 425.996 L2282.65 425.996 L2282.65 166.796 L1457.23 166.796  Z\n",
       "  \" fill=\"#ffffff\" fill-rule=\"evenodd\" fill-opacity=\"1\"/>\n",
       "<polyline clip-path=\"url(#clip840)\" style=\"stroke:#000000; stroke-linecap:butt; stroke-linejoin:round; stroke-width:4; stroke-opacity:1; fill:none\" points=\"\n",
       "  1457.23,425.996 2282.65,425.996 2282.65,166.796 1457.23,166.796 1457.23,425.996 \n",
       "  \"/>\n",
       "<polyline clip-path=\"url(#clip840)\" style=\"stroke:#009af9; stroke-linecap:butt; stroke-linejoin:round; stroke-width:4; stroke-opacity:1; fill:none\" points=\"\n",
       "  1480.59,218.636 1620.81,218.636 \n",
       "  \"/>\n",
       "<path clip-path=\"url(#clip840)\" d=\"M1644.18 201.356 L1651.15 201.356 L1659.96 224.874 L1668.83 201.356 L1675.8 201.356 L1675.8 235.916 L1671.24 235.916 L1671.24 205.569 L1662.33 229.272 L1657.63 229.272 L1648.71 205.569 L1648.71 235.916 L1644.18 235.916 L1644.18 201.356 Z\" fill=\"#000000\" fill-rule=\"evenodd\" fill-opacity=\"1\" /><path clip-path=\"url(#clip840)\" d=\"M1685.08 201.356 L1692.05 201.356 L1700.87 224.874 L1709.73 201.356 L1716.7 201.356 L1716.7 235.916 L1712.14 235.916 L1712.14 205.569 L1703.23 229.272 L1698.53 229.272 L1689.62 205.569 L1689.62 235.916 L1685.08 235.916 L1685.08 201.356 Z\" fill=\"#000000\" fill-rule=\"evenodd\" fill-opacity=\"1\" /><path clip-path=\"url(#clip840)\" d=\"M1745.5 243.786 L1745.5 247.096 L1720.87 247.096 L1720.87 243.786 L1745.5 243.786 Z\" fill=\"#000000\" fill-rule=\"evenodd\" fill-opacity=\"1\" /><path clip-path=\"url(#clip840)\" d=\"M1749.69 201.356 L1754.36 201.356 L1754.36 231.981 L1771.19 231.981 L1771.19 235.916 L1749.69 235.916 L1749.69 201.356 Z\" fill=\"#000000\" fill-rule=\"evenodd\" fill-opacity=\"1\" /><path clip-path=\"url(#clip840)\" d=\"M1786.51 204.434 Q1782.9 204.434 1781.08 207.999 Q1779.27 211.541 1779.27 218.67 Q1779.27 225.777 1781.08 229.342 Q1782.9 232.883 1786.51 232.883 Q1790.15 232.883 1791.95 229.342 Q1793.78 225.777 1793.78 218.67 Q1793.78 211.541 1791.95 207.999 Q1790.15 204.434 1786.51 204.434 M1786.51 200.731 Q1792.33 200.731 1795.38 205.337 Q1798.46 209.92 1798.46 218.67 Q1798.46 227.397 1795.38 232.004 Q1792.33 236.587 1786.51 236.587 Q1780.7 236.587 1777.63 232.004 Q1774.57 227.397 1774.57 218.67 Q1774.57 209.92 1777.63 205.337 Q1780.7 200.731 1786.51 200.731 Z\" fill=\"#000000\" fill-rule=\"evenodd\" fill-opacity=\"1\" /><path clip-path=\"url(#clip840)\" d=\"M1825.77 243.786 L1825.77 247.096 L1801.14 247.096 L1801.14 243.786 L1825.77 243.786 Z\" fill=\"#000000\" fill-rule=\"evenodd\" fill-opacity=\"1\" /><path clip-path=\"url(#clip840)\" d=\"M1829.78 209.99 L1834.04 209.99 L1834.04 235.916 L1829.78 235.916 L1829.78 209.99 M1829.78 199.897 L1834.04 199.897 L1834.04 205.291 L1829.78 205.291 L1829.78 199.897 Z\" fill=\"#000000\" fill-rule=\"evenodd\" fill-opacity=\"1\" /><path clip-path=\"url(#clip840)\" d=\"M1864.5 220.268 L1864.5 235.916 L1860.24 235.916 L1860.24 220.407 Q1860.24 216.726 1858.81 214.897 Q1857.37 213.069 1854.5 213.069 Q1851.05 213.069 1849.06 215.268 Q1847.07 217.467 1847.07 221.263 L1847.07 235.916 L1842.79 235.916 L1842.79 209.99 L1847.07 209.99 L1847.07 214.018 Q1848.6 211.68 1850.66 210.522 Q1852.74 209.365 1855.45 209.365 Q1859.92 209.365 1862.21 212.143 Q1864.5 214.897 1864.5 220.268 Z\" fill=\"#000000\" fill-rule=\"evenodd\" fill-opacity=\"1\" /><path clip-path=\"url(#clip840)\" d=\"M1890.06 213.925 L1890.06 199.897 L1894.32 199.897 L1894.32 235.916 L1890.06 235.916 L1890.06 232.027 Q1888.71 234.342 1886.65 235.476 Q1884.62 236.587 1881.75 236.587 Q1877.05 236.587 1874.08 232.837 Q1871.14 229.087 1871.14 222.976 Q1871.14 216.865 1874.08 213.115 Q1877.05 209.365 1881.75 209.365 Q1884.62 209.365 1886.65 210.499 Q1888.71 211.61 1890.06 213.925 M1875.54 222.976 Q1875.54 227.675 1877.46 230.36 Q1879.41 233.022 1882.79 233.022 Q1886.17 233.022 1888.11 230.36 Q1890.06 227.675 1890.06 222.976 Q1890.06 218.277 1888.11 215.615 Q1886.17 212.93 1882.79 212.93 Q1879.41 212.93 1877.46 215.615 Q1875.54 218.277 1875.54 222.976 Z\" fill=\"#000000\" fill-rule=\"evenodd\" fill-opacity=\"1\" /><path clip-path=\"url(#clip840)\" d=\"M1903.09 209.99 L1907.35 209.99 L1907.35 235.916 L1903.09 235.916 L1903.09 209.99 M1903.09 199.897 L1907.35 199.897 L1907.35 205.291 L1903.09 205.291 L1903.09 199.897 Z\" fill=\"#000000\" fill-rule=\"evenodd\" fill-opacity=\"1\" /><path clip-path=\"url(#clip840)\" d=\"M1934.92 210.985 L1934.92 214.967 Q1933.11 213.971 1931.28 213.485 Q1929.48 212.976 1927.63 212.976 Q1923.48 212.976 1921.19 215.615 Q1918.9 218.231 1918.9 222.976 Q1918.9 227.721 1921.19 230.36 Q1923.48 232.976 1927.63 232.976 Q1929.48 232.976 1931.28 232.49 Q1933.11 231.981 1934.92 230.985 L1934.92 234.92 Q1933.13 235.754 1931.21 236.17 Q1929.32 236.587 1927.16 236.587 Q1921.31 236.587 1917.86 232.906 Q1914.41 229.226 1914.41 222.976 Q1914.41 216.633 1917.88 212.999 Q1921.38 209.365 1927.44 209.365 Q1929.41 209.365 1931.28 209.782 Q1933.16 210.175 1934.92 210.985 Z\" fill=\"#000000\" fill-rule=\"evenodd\" fill-opacity=\"1\" /><path clip-path=\"url(#clip840)\" d=\"M1954.11 222.883 Q1948.94 222.883 1946.95 224.064 Q1944.96 225.244 1944.96 228.092 Q1944.96 230.36 1946.44 231.703 Q1947.95 233.022 1950.52 233.022 Q1954.06 233.022 1956.19 230.522 Q1958.34 227.999 1958.34 223.832 L1958.34 222.883 L1954.11 222.883 M1962.6 221.124 L1962.6 235.916 L1958.34 235.916 L1958.34 231.981 Q1956.88 234.342 1954.71 235.476 Q1952.53 236.587 1949.38 236.587 Q1945.4 236.587 1943.04 234.365 Q1940.7 232.119 1940.7 228.369 Q1940.7 223.994 1943.62 221.772 Q1946.56 219.55 1952.37 219.55 L1958.34 219.55 L1958.34 219.133 Q1958.34 216.194 1956.4 214.596 Q1954.48 212.976 1950.98 212.976 Q1948.76 212.976 1946.65 213.508 Q1944.55 214.041 1942.6 215.106 L1942.6 211.17 Q1944.94 210.268 1947.14 209.828 Q1949.34 209.365 1951.42 209.365 Q1957.05 209.365 1959.82 212.282 Q1962.6 215.198 1962.6 221.124 Z\" fill=\"#000000\" fill-rule=\"evenodd\" fill-opacity=\"1\" /><path clip-path=\"url(#clip840)\" d=\"M1975.59 202.629 L1975.59 209.99 L1984.36 209.99 L1984.36 213.3 L1975.59 213.3 L1975.59 227.374 Q1975.59 230.545 1976.44 231.448 Q1977.32 232.351 1979.99 232.351 L1984.36 232.351 L1984.36 235.916 L1979.99 235.916 Q1975.06 235.916 1973.18 234.087 Q1971.31 232.235 1971.31 227.374 L1971.31 213.3 L1968.18 213.3 L1968.18 209.99 L1971.31 209.99 L1971.31 202.629 L1975.59 202.629 Z\" fill=\"#000000\" fill-rule=\"evenodd\" fill-opacity=\"1\" /><path clip-path=\"url(#clip840)\" d=\"M2000.01 212.976 Q1996.58 212.976 1994.59 215.661 Q1992.6 218.323 1992.6 222.976 Q1992.6 227.629 1994.57 230.314 Q1996.56 232.976 2000.01 232.976 Q2003.41 232.976 2005.4 230.291 Q2007.39 227.606 2007.39 222.976 Q2007.39 218.37 2005.4 215.684 Q2003.41 212.976 2000.01 212.976 M2000.01 209.365 Q2005.56 209.365 2008.74 212.976 Q2011.91 216.587 2011.91 222.976 Q2011.91 229.342 2008.74 232.976 Q2005.56 236.587 2000.01 236.587 Q1994.43 236.587 1991.26 232.976 Q1988.11 229.342 1988.11 222.976 Q1988.11 216.587 1991.26 212.976 Q1994.43 209.365 2000.01 209.365 Z\" fill=\"#000000\" fill-rule=\"evenodd\" fill-opacity=\"1\" /><path clip-path=\"url(#clip840)\" d=\"M2033.99 213.971 Q2033.27 213.555 2032.42 213.37 Q2031.58 213.161 2030.56 213.161 Q2026.95 213.161 2025.01 215.522 Q2023.09 217.86 2023.09 222.258 L2023.09 235.916 L2018.81 235.916 L2018.81 209.99 L2023.09 209.99 L2023.09 214.018 Q2024.43 211.657 2026.58 210.522 Q2028.74 209.365 2031.81 209.365 Q2032.25 209.365 2032.79 209.434 Q2033.32 209.481 2033.97 209.596 L2033.99 213.971 Z\" fill=\"#000000\" fill-rule=\"evenodd\" fill-opacity=\"1\" /><polyline clip-path=\"url(#clip840)\" style=\"stroke:#e26f46; stroke-linecap:butt; stroke-linejoin:round; stroke-width:4; stroke-opacity:1; fill:none\" points=\"\n",
       "  1480.59,270.476 1620.81,270.476 \n",
       "  \"/>\n",
       "<path clip-path=\"url(#clip840)\" d=\"M1644.18 253.196 L1651.15 253.196 L1659.96 276.714 L1668.83 253.196 L1675.8 253.196 L1675.8 287.756 L1671.24 287.756 L1671.24 257.409 L1662.33 281.112 L1657.63 281.112 L1648.71 257.409 L1648.71 287.756 L1644.18 287.756 L1644.18 253.196 Z\" fill=\"#000000\" fill-rule=\"evenodd\" fill-opacity=\"1\" /><path clip-path=\"url(#clip840)\" d=\"M1685.08 253.196 L1692.05 253.196 L1700.87 276.714 L1709.73 253.196 L1716.7 253.196 L1716.7 287.756 L1712.14 287.756 L1712.14 257.409 L1703.23 281.112 L1698.53 281.112 L1689.62 257.409 L1689.62 287.756 L1685.08 287.756 L1685.08 253.196 Z\" fill=\"#000000\" fill-rule=\"evenodd\" fill-opacity=\"1\" /><path clip-path=\"url(#clip840)\" d=\"M1745.5 295.626 L1745.5 298.936 L1720.87 298.936 L1720.87 295.626 L1745.5 295.626 Z\" fill=\"#000000\" fill-rule=\"evenodd\" fill-opacity=\"1\" /><path clip-path=\"url(#clip840)\" d=\"M1749.69 253.196 L1754.36 253.196 L1754.36 283.821 L1771.19 283.821 L1771.19 287.756 L1749.69 287.756 L1749.69 253.196 Z\" fill=\"#000000\" fill-rule=\"evenodd\" fill-opacity=\"1\" /><path clip-path=\"url(#clip840)\" d=\"M1786.51 256.274 Q1782.9 256.274 1781.08 259.839 Q1779.27 263.381 1779.27 270.51 Q1779.27 277.617 1781.08 281.182 Q1782.9 284.723 1786.51 284.723 Q1790.15 284.723 1791.95 281.182 Q1793.78 277.617 1793.78 270.51 Q1793.78 263.381 1791.95 259.839 Q1790.15 256.274 1786.51 256.274 M1786.51 252.571 Q1792.33 252.571 1795.38 257.177 Q1798.46 261.76 1798.46 270.51 Q1798.46 279.237 1795.38 283.844 Q1792.33 288.427 1786.51 288.427 Q1780.7 288.427 1777.63 283.844 Q1774.57 279.237 1774.57 270.51 Q1774.57 261.76 1777.63 257.177 Q1780.7 252.571 1786.51 252.571 Z\" fill=\"#000000\" fill-rule=\"evenodd\" fill-opacity=\"1\" /><path clip-path=\"url(#clip840)\" d=\"M1825.77 295.626 L1825.77 298.936 L1801.14 298.936 L1801.14 295.626 L1825.77 295.626 Z\" fill=\"#000000\" fill-rule=\"evenodd\" fill-opacity=\"1\" /><path clip-path=\"url(#clip840)\" d=\"M1827.3 261.83 L1831.56 261.83 L1836.89 282.061 L1842.19 261.83 L1847.21 261.83 L1852.53 282.061 L1857.83 261.83 L1862.09 261.83 L1855.31 287.756 L1850.29 287.756 L1844.71 266.506 L1839.11 287.756 L1834.08 287.756 L1827.3 261.83 Z\" fill=\"#000000\" fill-rule=\"evenodd\" fill-opacity=\"1\" /><path clip-path=\"url(#clip840)\" d=\"M1868.55 261.83 L1872.81 261.83 L1872.81 287.756 L1868.55 287.756 L1868.55 261.83 M1868.55 251.737 L1872.81 251.737 L1872.81 257.131 L1868.55 257.131 L1868.55 251.737 Z\" fill=\"#000000\" fill-rule=\"evenodd\" fill-opacity=\"1\" /><path clip-path=\"url(#clip840)\" d=\"M1885.94 254.469 L1885.94 261.83 L1894.71 261.83 L1894.71 265.14 L1885.94 265.14 L1885.94 279.214 Q1885.94 282.385 1886.79 283.288 Q1887.67 284.191 1890.33 284.191 L1894.71 284.191 L1894.71 287.756 L1890.33 287.756 Q1885.4 287.756 1883.53 285.927 Q1881.65 284.075 1881.65 279.214 L1881.65 265.14 L1878.53 265.14 L1878.53 261.83 L1881.65 261.83 L1881.65 254.469 L1885.94 254.469 Z\" fill=\"#000000\" fill-rule=\"evenodd\" fill-opacity=\"1\" /><path clip-path=\"url(#clip840)\" d=\"M1921.86 272.108 L1921.86 287.756 L1917.6 287.756 L1917.6 272.247 Q1917.6 268.566 1916.17 266.737 Q1914.73 264.909 1911.86 264.909 Q1908.41 264.909 1906.42 267.108 Q1904.43 269.307 1904.43 273.103 L1904.43 287.756 L1900.15 287.756 L1900.15 251.737 L1904.43 251.737 L1904.43 265.858 Q1905.96 263.52 1908.02 262.362 Q1910.1 261.205 1912.81 261.205 Q1917.28 261.205 1919.57 263.983 Q1921.86 266.737 1921.86 272.108 Z\" fill=\"#000000\" fill-rule=\"evenodd\" fill-opacity=\"1\" /><path clip-path=\"url(#clip840)\" d=\"M1940.4 264.816 Q1936.98 264.816 1934.99 267.501 Q1933 270.163 1933 274.816 Q1933 279.469 1934.96 282.154 Q1936.95 284.816 1940.4 284.816 Q1943.81 284.816 1945.8 282.131 Q1947.79 279.446 1947.79 274.816 Q1947.79 270.21 1945.8 267.524 Q1943.81 264.816 1940.4 264.816 M1940.4 261.205 Q1945.96 261.205 1949.13 264.816 Q1952.3 268.427 1952.3 274.816 Q1952.3 281.182 1949.13 284.816 Q1945.96 288.427 1940.4 288.427 Q1934.82 288.427 1931.65 284.816 Q1928.5 281.182 1928.5 274.816 Q1928.5 268.427 1931.65 264.816 Q1934.82 261.205 1940.4 261.205 Z\" fill=\"#000000\" fill-rule=\"evenodd\" fill-opacity=\"1\" /><path clip-path=\"url(#clip840)\" d=\"M1958.92 277.524 L1958.92 261.83 L1963.18 261.83 L1963.18 277.362 Q1963.18 281.043 1964.62 282.895 Q1966.05 284.723 1968.92 284.723 Q1972.37 284.723 1974.36 282.524 Q1976.38 280.325 1976.38 276.529 L1976.38 261.83 L1980.63 261.83 L1980.63 287.756 L1976.38 287.756 L1976.38 283.774 Q1974.82 286.135 1972.76 287.293 Q1970.73 288.427 1968.02 288.427 Q1963.55 288.427 1961.24 285.649 Q1958.92 282.871 1958.92 277.524 M1969.64 261.205 L1969.64 261.205 Z\" fill=\"#000000\" fill-rule=\"evenodd\" fill-opacity=\"1\" /><path clip-path=\"url(#clip840)\" d=\"M1993.62 254.469 L1993.62 261.83 L2002.39 261.83 L2002.39 265.14 L1993.62 265.14 L1993.62 279.214 Q1993.62 282.385 1994.48 283.288 Q1995.36 284.191 1998.02 284.191 L2002.39 284.191 L2002.39 287.756 L1998.02 287.756 Q1993.09 287.756 1991.21 285.927 Q1989.34 284.075 1989.34 279.214 L1989.34 265.14 L1986.21 265.14 L1986.21 261.83 L1989.34 261.83 L1989.34 254.469 L1993.62 254.469 Z\" fill=\"#000000\" fill-rule=\"evenodd\" fill-opacity=\"1\" /><path clip-path=\"url(#clip840)\" d=\"M2027.69 295.626 L2027.69 298.936 L2003.06 298.936 L2003.06 295.626 L2027.69 295.626 Z\" fill=\"#000000\" fill-rule=\"evenodd\" fill-opacity=\"1\" /><path clip-path=\"url(#clip840)\" d=\"M2031.7 261.83 L2035.96 261.83 L2035.96 287.756 L2031.7 287.756 L2031.7 261.83 M2031.7 251.737 L2035.96 251.737 L2035.96 257.131 L2031.7 257.131 L2031.7 251.737 Z\" fill=\"#000000\" fill-rule=\"evenodd\" fill-opacity=\"1\" /><path clip-path=\"url(#clip840)\" d=\"M2066.42 272.108 L2066.42 287.756 L2062.16 287.756 L2062.16 272.247 Q2062.16 268.566 2060.73 266.737 Q2059.29 264.909 2056.42 264.909 Q2052.97 264.909 2050.98 267.108 Q2048.99 269.307 2048.99 273.103 L2048.99 287.756 L2044.71 287.756 L2044.71 261.83 L2048.99 261.83 L2048.99 265.858 Q2050.52 263.52 2052.58 262.362 Q2054.66 261.205 2057.37 261.205 Q2061.84 261.205 2064.13 263.983 Q2066.42 266.737 2066.42 272.108 Z\" fill=\"#000000\" fill-rule=\"evenodd\" fill-opacity=\"1\" /><path clip-path=\"url(#clip840)\" d=\"M2091.98 265.765 L2091.98 251.737 L2096.24 251.737 L2096.24 287.756 L2091.98 287.756 L2091.98 283.867 Q2090.63 286.182 2088.57 287.316 Q2086.54 288.427 2083.67 288.427 Q2078.97 288.427 2076 284.677 Q2073.06 280.927 2073.06 274.816 Q2073.06 268.705 2076 264.955 Q2078.97 261.205 2083.67 261.205 Q2086.54 261.205 2088.57 262.339 Q2090.63 263.45 2091.98 265.765 M2077.46 274.816 Q2077.46 279.515 2079.38 282.2 Q2081.33 284.862 2084.71 284.862 Q2088.09 284.862 2090.03 282.2 Q2091.98 279.515 2091.98 274.816 Q2091.98 270.117 2090.03 267.455 Q2088.09 264.77 2084.71 264.77 Q2081.33 264.77 2079.38 267.455 Q2077.46 270.117 2077.46 274.816 Z\" fill=\"#000000\" fill-rule=\"evenodd\" fill-opacity=\"1\" /><path clip-path=\"url(#clip840)\" d=\"M2105.01 261.83 L2109.27 261.83 L2109.27 287.756 L2105.01 287.756 L2105.01 261.83 M2105.01 251.737 L2109.27 251.737 L2109.27 257.131 L2105.01 257.131 L2105.01 251.737 Z\" fill=\"#000000\" fill-rule=\"evenodd\" fill-opacity=\"1\" /><path clip-path=\"url(#clip840)\" d=\"M2136.84 262.825 L2136.84 266.807 Q2135.03 265.811 2133.2 265.325 Q2131.4 264.816 2129.55 264.816 Q2125.4 264.816 2123.11 267.455 Q2120.82 270.071 2120.82 274.816 Q2120.82 279.561 2123.11 282.2 Q2125.4 284.816 2129.55 284.816 Q2131.4 284.816 2133.2 284.33 Q2135.03 283.821 2136.84 282.825 L2136.84 286.76 Q2135.05 287.594 2133.13 288.01 Q2131.24 288.427 2129.08 288.427 Q2123.23 288.427 2119.78 284.746 Q2116.33 281.066 2116.33 274.816 Q2116.33 268.473 2119.8 264.839 Q2123.3 261.205 2129.36 261.205 Q2131.33 261.205 2133.2 261.622 Q2135.08 262.015 2136.84 262.825 Z\" fill=\"#000000\" fill-rule=\"evenodd\" fill-opacity=\"1\" /><path clip-path=\"url(#clip840)\" d=\"M2156.03 274.723 Q2150.86 274.723 2148.87 275.904 Q2146.88 277.084 2146.88 279.932 Q2146.88 282.2 2148.36 283.543 Q2149.87 284.862 2152.44 284.862 Q2155.98 284.862 2158.11 282.362 Q2160.26 279.839 2160.26 275.672 L2160.26 274.723 L2156.03 274.723 M2164.52 272.964 L2164.52 287.756 L2160.26 287.756 L2160.26 283.821 Q2158.8 286.182 2156.63 287.316 Q2154.45 288.427 2151.3 288.427 Q2147.32 288.427 2144.96 286.205 Q2142.62 283.959 2142.62 280.209 Q2142.62 275.834 2145.54 273.612 Q2148.48 271.39 2154.29 271.39 L2160.26 271.39 L2160.26 270.973 Q2160.26 268.034 2158.32 266.436 Q2156.4 264.816 2152.9 264.816 Q2150.68 264.816 2148.57 265.348 Q2146.47 265.881 2144.52 266.946 L2144.52 263.01 Q2146.86 262.108 2149.06 261.668 Q2151.26 261.205 2153.34 261.205 Q2158.97 261.205 2161.74 264.122 Q2164.52 267.038 2164.52 272.964 Z\" fill=\"#000000\" fill-rule=\"evenodd\" fill-opacity=\"1\" /><path clip-path=\"url(#clip840)\" d=\"M2177.51 254.469 L2177.51 261.83 L2186.28 261.83 L2186.28 265.14 L2177.51 265.14 L2177.51 279.214 Q2177.51 282.385 2178.36 283.288 Q2179.24 284.191 2181.91 284.191 L2186.28 284.191 L2186.28 287.756 L2181.91 287.756 Q2176.98 287.756 2175.1 285.927 Q2173.23 284.075 2173.23 279.214 L2173.23 265.14 L2170.1 265.14 L2170.1 261.83 L2173.23 261.83 L2173.23 254.469 L2177.51 254.469 Z\" fill=\"#000000\" fill-rule=\"evenodd\" fill-opacity=\"1\" /><path clip-path=\"url(#clip840)\" d=\"M2201.93 264.816 Q2198.5 264.816 2196.51 267.501 Q2194.52 270.163 2194.52 274.816 Q2194.52 279.469 2196.49 282.154 Q2198.48 284.816 2201.93 284.816 Q2205.33 284.816 2207.32 282.131 Q2209.31 279.446 2209.31 274.816 Q2209.31 270.21 2207.32 267.524 Q2205.33 264.816 2201.93 264.816 M2201.93 261.205 Q2207.48 261.205 2210.66 264.816 Q2213.83 268.427 2213.83 274.816 Q2213.83 281.182 2210.66 284.816 Q2207.48 288.427 2201.93 288.427 Q2196.35 288.427 2193.18 284.816 Q2190.03 281.182 2190.03 274.816 Q2190.03 268.427 2193.18 264.816 Q2196.35 261.205 2201.93 261.205 Z\" fill=\"#000000\" fill-rule=\"evenodd\" fill-opacity=\"1\" /><path clip-path=\"url(#clip840)\" d=\"M2235.91 265.811 Q2235.19 265.395 2234.34 265.21 Q2233.5 265.001 2232.48 265.001 Q2228.87 265.001 2226.93 267.362 Q2225.01 269.7 2225.01 274.098 L2225.01 287.756 L2220.73 287.756 L2220.73 261.83 L2225.01 261.83 L2225.01 265.858 Q2226.35 263.497 2228.5 262.362 Q2230.66 261.205 2233.73 261.205 Q2234.17 261.205 2234.71 261.274 Q2235.24 261.321 2235.89 261.436 L2235.91 265.811 Z\" fill=\"#000000\" fill-rule=\"evenodd\" fill-opacity=\"1\" /><polyline clip-path=\"url(#clip840)\" style=\"stroke:#3da44d; stroke-linecap:butt; stroke-linejoin:round; stroke-width:4; stroke-opacity:1; fill:none\" points=\"\n",
       "  1480.59,322.316 1620.81,322.316 \n",
       "  \"/>\n",
       "<path clip-path=\"url(#clip840)\" d=\"M1656.08 316.656 Q1652.65 316.656 1650.66 319.341 Q1648.67 322.003 1648.67 326.656 Q1648.67 331.309 1650.64 333.994 Q1652.63 336.656 1656.08 336.656 Q1659.48 336.656 1661.47 333.971 Q1663.46 331.286 1663.46 326.656 Q1663.46 322.05 1661.47 319.364 Q1659.48 316.656 1656.08 316.656 M1656.08 313.045 Q1661.63 313.045 1664.8 316.656 Q1667.97 320.267 1667.97 326.656 Q1667.97 333.022 1664.8 336.656 Q1661.63 340.267 1656.08 340.267 Q1650.5 340.267 1647.33 336.656 Q1644.18 333.022 1644.18 326.656 Q1644.18 320.267 1647.33 316.656 Q1650.5 313.045 1656.08 313.045 Z\" fill=\"#000000\" fill-rule=\"evenodd\" fill-opacity=\"1\" /><path clip-path=\"url(#clip840)\" d=\"M1695.22 318.647 Q1696.82 315.776 1699.04 314.411 Q1701.26 313.045 1704.27 313.045 Q1708.32 313.045 1710.52 315.892 Q1712.72 318.716 1712.72 323.948 L1712.72 339.596 L1708.44 339.596 L1708.44 324.087 Q1708.44 320.36 1707.12 318.554 Q1705.8 316.749 1703.09 316.749 Q1699.78 316.749 1697.86 318.948 Q1695.94 321.147 1695.94 324.943 L1695.94 339.596 L1691.65 339.596 L1691.65 324.087 Q1691.65 320.337 1690.33 318.554 Q1689.02 316.749 1686.26 316.749 Q1683 316.749 1681.08 318.971 Q1679.15 321.17 1679.15 324.943 L1679.15 339.596 L1674.87 339.596 L1674.87 313.67 L1679.15 313.67 L1679.15 317.698 Q1680.61 315.313 1682.65 314.179 Q1684.69 313.045 1687.49 313.045 Q1690.31 313.045 1692.28 314.48 Q1694.27 315.915 1695.22 318.647 Z\" fill=\"#000000\" fill-rule=\"evenodd\" fill-opacity=\"1\" /><path clip-path=\"url(#clip840)\" d=\"M1725.33 335.707 L1725.33 349.457 L1721.05 349.457 L1721.05 313.67 L1725.33 313.67 L1725.33 317.605 Q1726.68 315.29 1728.71 314.179 Q1730.77 313.045 1733.62 313.045 Q1738.34 313.045 1741.28 316.795 Q1744.25 320.545 1744.25 326.656 Q1744.25 332.767 1741.28 336.517 Q1738.34 340.267 1733.62 340.267 Q1730.77 340.267 1728.71 339.156 Q1726.68 338.022 1725.33 335.707 M1739.83 326.656 Q1739.83 321.957 1737.88 319.295 Q1735.96 316.61 1732.58 316.61 Q1729.2 316.61 1727.26 319.295 Q1725.33 321.957 1725.33 326.656 Q1725.33 331.355 1727.26 334.04 Q1729.2 336.702 1732.58 336.702 Q1735.96 336.702 1737.88 334.04 Q1739.83 331.355 1739.83 326.656 Z\" fill=\"#000000\" fill-rule=\"evenodd\" fill-opacity=\"1\" /><polyline clip-path=\"url(#clip840)\" style=\"stroke:#c271d2; stroke-linecap:butt; stroke-linejoin:round; stroke-width:4; stroke-opacity:1; fill:none\" points=\"\n",
       "  1480.59,374.156 1620.81,374.156 \n",
       "  \"/>\n",
       "<path clip-path=\"url(#clip840)\" d=\"M1666.42 358.01 L1666.42 362.57 Q1663.76 361.297 1661.4 360.672 Q1659.04 360.047 1656.84 360.047 Q1653.02 360.047 1650.94 361.528 Q1648.88 363.01 1648.88 365.741 Q1648.88 368.033 1650.24 369.214 Q1651.63 370.371 1655.47 371.089 L1658.3 371.667 Q1663.53 372.663 1666.01 375.186 Q1668.51 377.686 1668.51 381.899 Q1668.51 386.922 1665.13 389.514 Q1661.77 392.107 1655.27 392.107 Q1652.81 392.107 1650.03 391.551 Q1647.28 390.996 1644.32 389.908 L1644.32 385.093 Q1647.16 386.69 1649.9 387.501 Q1652.63 388.311 1655.27 388.311 Q1659.27 388.311 1661.45 386.737 Q1663.62 385.163 1663.62 382.246 Q1663.62 379.7 1662.05 378.264 Q1660.5 376.829 1656.93 376.112 L1654.09 375.556 Q1648.85 374.515 1646.52 372.292 Q1644.18 370.07 1644.18 366.112 Q1644.18 361.528 1647.4 358.89 Q1650.64 356.251 1656.31 356.251 Q1658.74 356.251 1661.26 356.691 Q1663.78 357.13 1666.42 358.01 Z\" fill=\"#000000\" fill-rule=\"evenodd\" fill-opacity=\"1\" /><path clip-path=\"url(#clip840)\" d=\"M1680.47 360.718 L1680.47 373.704 L1686.35 373.704 Q1689.62 373.704 1691.4 372.015 Q1693.18 370.325 1693.18 367.2 Q1693.18 364.098 1691.4 362.408 Q1689.62 360.718 1686.35 360.718 L1680.47 360.718 M1675.8 356.876 L1686.35 356.876 Q1692.16 356.876 1695.13 359.515 Q1698.11 362.13 1698.11 367.2 Q1698.11 372.315 1695.13 374.931 Q1692.16 377.547 1686.35 377.547 L1680.47 377.547 L1680.47 391.436 L1675.8 391.436 L1675.8 356.876 Z\" fill=\"#000000\" fill-rule=\"evenodd\" fill-opacity=\"1\" /></svg>\n"
      ]
     },
     "execution_count": 19,
     "metadata": {},
     "output_type": "execute_result"
    }
   ],
   "source": [
    "using  Plots\n",
    "S = collect(4:1:20)\n",
    "plot(S,correct_bit_l0_in,title = \"Comparison of algorithms\",xlabel = \"Sparsity S\",\n",
    "ylabel = \"Avrg correct rate\",xlims = (0, 20),lab = \"MM_L0_indicator\")\n",
    "plot!(S,correct_bit_l0_without_in,lab = \"MM_L0_without_indicator\")\n",
    "plot!(S,correct_bit_omp,lab = \"omp\")\n",
    "plot!(S,correct_bit_sp,lab = \"SP\")\n"
   ]
  },
  {
   "attachments": {
    "graph_large_data.PNG": {
     "image/png": "[encoded data removed]"
    }
   },
   "cell_type": "markdown",
   "metadata": {},
   "source": [
    "![graph_large_data.PNG](attachment:graph_large_data.PNG)"
   ]
  },
  {
   "cell_type": "markdown",
   "metadata": {},
   "source": [
    "## Highlights"
   ]
  },
  {
   "cell_type": "markdown",
   "metadata": {},
   "source": [
    "This coursework for Group 21 has been completed in its entierety. All 3 sections have been answered along with additional comments/explanations and no parts have been omitted. The specific parts of the coursework are highlighted as follows but please reference to the mentioned sections for more details.\n",
    "\n",
    "### Least Squares: Solution Stability\n",
    "\n",
    "In 1.1.1 SVD, there is a well-known error with the Julia SVD function where the value produced is not correct due to the result not converging to its true value. We want to highlight that we have fixed this rounding error in the first section. \n",
    "In 1.1.2 Error bounds the results questions 1 and 2 were found. There were as follows:\n",
    "$$\n",
    "0 \\leq\\left\\|\\hat{x}-x_{0}\\right\\|^{2}\\leq \\sigma_{\\min }^{-2}\\|\\omega\\|^{2}\n",
    "$$\n",
    "$$\n",
    "\\sigma_{\\max }^{-2}n\\sigma^2 \\leq\\text{E}_{W}[ \\| \\hat{\\boldsymbol{x}} - \\boldsymbol{x} \\|^2 ]\\leq \\sigma_{\\min }^{-2}n\\sigma^2\n",
    "$$\n",
    "These results were also successfully verified in the simulation that we ran. This can be seen in the above coursework.\n",
    "\n",
    "### Sparse Linear Inverse Problems:  ℓ0 -Minimization\n",
    "\n",
    "This section included the following parts: 1.2.1 Measurement Matrix Generation and Properties, Mutual Coherence Constant (MCC) and the Restricted Isometry Constant (RIC).\n",
    "For the 3 parts listed, functions were coded by Group, which were then both tested individually. All functions produced the correct results. There was also a discussion between the MCC and RIC and their respecitve computational complexities. Please refer to the relevant section in the coursework to find this part.\n",
    "\n",
    "### **Subspace Pursuit (SP)**\n",
    "* Required functions: supp_of_H(vector,s).\n",
    "\n",
    "    -it returns the indexes of the biggest \"s\" elements of a vector. It is more efficent that the sortperm algorithm as it only finds the biggest s numbers without sorting any value\n",
    "    \n",
    "    \n",
    "* Choosing the right break condition for the SP algorithm\n",
    "\n",
    "    -The if condition has been optimised to suit both the cases with high sparcity and those with low sparcity. For the low sparcity cases we are setting the residue target to be 0. For the high sparcity cases due to approximation errors, the solution does not converge, hence we have set a target difference between the norm of the current and previous residues (when any aditional iterations are insignificant). The iteration limit is set for cases when s is big and the solution does not converge to a suitable result. \n",
    "    \n",
    "### **Majorization Minimization (MM)** \n",
    "* Function encapsulation.\n",
    "\n",
    "    - Encapsulating proximal function and g_function well into a big function.\n",
    "    * Making it easier to understand and reuse, and also making the script easier to read.\n",
    "\n",
    "- Well organized structures.\n",
    "    \n",
    "    * Readers can easily understand how x_next and x_cur updates.\n",
    "    - Exact conditions for jumping out of while loop to get x_sol.\n",
    "\n",
    "\n",
    "+ Success rate functions and Plots.\n",
    "\n",
    "    * Running all algorithms parallel. Easier to see and compare their performance.\n",
    "    \n"
   ]
  }
 ],
 "metadata": {
  "kernelspec": {
   "display_name": "Julia 1.6.3",
   "language": "julia",
   "name": "julia-1.6"
  },
  "language_info": {
   "file_extension": ".jl",
   "mimetype": "application/julia",
   "name": "julia",
   "version": "1.6.3"
  }
 },
 "nbformat": 4,
 "nbformat_minor": 2
}
